{
 "cells": [
  {
   "cell_type": "markdown",
   "id": "53a8a70e",
   "metadata": {},
   "source": [
    "Qn_1 How many secopnds are there in 42 minutes 42 second?"
   ]
  },
  {
   "cell_type": "markdown",
   "id": "41f91363",
   "metadata": {},
   "source": [
    "a=42min + 42sec"
   ]
  },
  {
   "cell_type": "code",
   "execution_count": 3,
   "id": "581122fc",
   "metadata": {},
   "outputs": [],
   "source": [
    "a=42*60+42"
   ]
  },
  {
   "cell_type": "code",
   "execution_count": 5,
   "id": "8b0e6269",
   "metadata": {},
   "outputs": [
    {
     "name": "stdout",
     "output_type": "stream",
     "text": [
      "2562\n"
     ]
    }
   ],
   "source": [
    "print(a)"
   ]
  },
  {
   "cell_type": "markdown",
   "id": "52a75343",
   "metadata": {},
   "source": [
    "Qn_2 How many miles are there in 10 kilometers? Hint:there are 1.609 kilometers in a mile."
   ]
  },
  {
   "cell_type": "code",
   "execution_count": 8,
   "id": "ae6bfc0f",
   "metadata": {},
   "outputs": [],
   "source": [
    "a=10/1.609"
   ]
  },
  {
   "cell_type": "code",
   "execution_count": 9,
   "id": "d1dee796",
   "metadata": {},
   "outputs": [
    {
     "name": "stdout",
     "output_type": "stream",
     "text": [
      "6.215040397762586\n"
     ]
    }
   ],
   "source": [
    "print(a)"
   ]
  },
  {
   "cell_type": "markdown",
   "id": "f371866a",
   "metadata": {},
   "source": [
    "Qn_3 If you run a 10 kilometer race in 42 minutes and 42 seconds. What is your average pace (speed: miles in minutes and miles in seconds)?"
   ]
  },
  {
   "cell_type": "code",
   "execution_count": 34,
   "id": "6b058a7c",
   "metadata": {},
   "outputs": [],
   "source": [
    "a=10/1.609\n",
    "b=42+42/60"
   ]
  },
  {
   "cell_type": "code",
   "execution_count": 35,
   "id": "b388e82a",
   "metadata": {},
   "outputs": [
    {
     "name": "stdout",
     "output_type": "stream",
     "text": [
      "6.215040397762586 42.7\n"
     ]
    }
   ],
   "source": [
    "print(a,b)"
   ]
  },
  {
   "cell_type": "code",
   "execution_count": 36,
   "id": "03069ece",
   "metadata": {},
   "outputs": [],
   "source": [
    "c = b/a"
   ]
  },
  {
   "cell_type": "code",
   "execution_count": 37,
   "id": "d830e878",
   "metadata": {},
   "outputs": [
    {
     "name": "stdout",
     "output_type": "stream",
     "text": [
      "6.87043\n"
     ]
    }
   ],
   "source": [
    "print(c)"
   ]
  },
  {
   "cell_type": "markdown",
   "id": "ba9036bd",
   "metadata": {},
   "source": [
    "the average pace is 6.87043 minutes per mile"
   ]
  },
  {
   "cell_type": "code",
   "execution_count": 1,
   "id": "14a6dc41",
   "metadata": {},
   "outputs": [],
   "source": [
    "x=10/1.609\n",
    "y=42*60+42"
   ]
  },
  {
   "cell_type": "code",
   "execution_count": 2,
   "id": "70fc1209",
   "metadata": {},
   "outputs": [
    {
     "name": "stdout",
     "output_type": "stream",
     "text": [
      "6.215040397762586 2562\n"
     ]
    }
   ],
   "source": [
    "print(x,y)"
   ]
  },
  {
   "cell_type": "code",
   "execution_count": 3,
   "id": "db966bfa",
   "metadata": {},
   "outputs": [
    {
     "name": "stdout",
     "output_type": "stream",
     "text": [
      "412.2258\n"
     ]
    }
   ],
   "source": [
    "z=y/x\n",
    "print(z)"
   ]
  },
  {
   "cell_type": "code",
   "execution_count": 42,
   "id": "e31fb453",
   "metadata": {},
   "outputs": [],
   "source": [
    "#the average pace is 412.2258 seconds in a mile"
   ]
  },
  {
   "cell_type": "code",
   "execution_count": 4,
   "id": "6349b27a",
   "metadata": {},
   "outputs": [
    {
     "data": {
      "text/plain": [
       "412.23"
      ]
     },
     "execution_count": 4,
     "metadata": {},
     "output_type": "execute_result"
    }
   ],
   "source": [
    "round(z,2)"
   ]
  },
  {
   "cell_type": "code",
   "execution_count": 5,
   "id": "189987cc",
   "metadata": {},
   "outputs": [
    {
     "name": "stdout",
     "output_type": "stream",
     "text": [
      "the z is {}. format(z,2)\n"
     ]
    }
   ],
   "source": [
    "print(\"the z is {}. format(z,2)\")"
   ]
  },
  {
   "cell_type": "code",
   "execution_count": null,
   "id": "ef79e18c",
   "metadata": {},
   "outputs": [],
   "source": []
  }
 ],
 "metadata": {
  "kernelspec": {
   "display_name": "Python 3 (ipykernel)",
   "language": "python",
   "name": "python3"
  },
  "language_info": {
   "codemirror_mode": {
    "name": "ipython",
    "version": 3
   },
   "file_extension": ".py",
   "mimetype": "text/x-python",
   "name": "python",
   "nbconvert_exporter": "python",
   "pygments_lexer": "ipython3",
   "version": "3.8.10"
  }
 },
 "nbformat": 4,
 "nbformat_minor": 5
}
