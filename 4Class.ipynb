{
 "cells": [
  {
   "cell_type": "markdown",
   "id": "3581d4dd",
   "metadata": {},
   "source": [
    "# Write a program to find find given input is odd or even"
   ]
  },
  {
   "cell_type": "code",
   "execution_count": 1,
   "id": "91fe9759",
   "metadata": {},
   "outputs": [
    {
     "name": "stdout",
     "output_type": "stream",
     "text": [
      "Enter a number :1\n"
     ]
    }
   ],
   "source": [
    "user_input=int(input(\"Enter a number :\"))"
   ]
  },
  {
   "cell_type": "code",
   "execution_count": 2,
   "id": "f67f1a55",
   "metadata": {},
   "outputs": [
    {
     "name": "stdout",
     "output_type": "stream",
     "text": [
      "Enter a number :1\n",
      "positive\n"
     ]
    }
   ],
   "source": [
    "user_input=int(input(\"Enter a number :\"))\n",
    "if user_input < 0:\n",
    "    print(\"negative\")\n",
    "else:\n",
    "    print(\"positive\")"
   ]
  },
  {
   "cell_type": "code",
   "execution_count": 3,
   "id": "ec05e43e",
   "metadata": {},
   "outputs": [
    {
     "name": "stdout",
     "output_type": "stream",
     "text": [
      "Enter a number :1\n",
      "negative\n",
      "Hello world\n"
     ]
    }
   ],
   "source": [
    "user_input=int(input(\"Enter a number :\"))\n",
    "if user_input>0:\n",
    "    print(\"positive\")\n",
    "else:\n",
    "    print(\"negative\")\n",
    "print(\"Hello world\")"
   ]
  },
  {
   "cell_type": "code",
   "execution_count": 4,
   "id": "f1ebd751",
   "metadata": {},
   "outputs": [
    {
     "name": "stdout",
     "output_type": "stream",
     "text": [
      "Enter a number :2\n"
     ]
    }
   ],
   "source": [
    "a=float(input(\"Enter a number :\"))"
   ]
  },
  {
   "cell_type": "code",
   "execution_count": 5,
   "id": "1caffd34",
   "metadata": {},
   "outputs": [
    {
     "name": "stdout",
     "output_type": "stream",
     "text": [
      "decimal\n"
     ]
    }
   ],
   "source": [
    "if user_input*2==5:\n",
    "    print(\"real\")\n",
    "else:\n",
    "    print(\"decimal\")"
   ]
  },
  {
   "cell_type": "markdown",
   "id": "3fe371e9",
   "metadata": {},
   "source": [
    "# WAP to check if the user input is zero,positive and negative, and print respective message"
   ]
  },
  {
   "cell_type": "code",
   "execution_count": null,
   "id": "13ecd1d9",
   "metadata": {},
   "outputs": [],
   "source": [
    "y=int(input(\"Enter a number :\"))\n",
    "if y==0:\n",
    "    print(\"Zero\")\n",
    "if y<0:\n",
    "    print(\"Negative\")\n",
    "if y>0:\n",
    "    print(\"Positive\")"
   ]
  },
  {
   "cell_type": "code",
   "execution_count": 1,
   "id": "8b07a706",
   "metadata": {},
   "outputs": [
    {
     "name": "stdout",
     "output_type": "stream",
     "text": [
      "Enter a number :5\n",
      "Positive\n"
     ]
    }
   ],
   "source": [
    "y=int(input(\"Enter a number :\"))\n",
    "if y==0:\n",
    "    print(\"Zero\")\n",
    "if y<0:\n",
    "    print(\"Negative\")\n",
    "else:\n",
    "    print(\"Positive\")"
   ]
  },
  {
   "cell_type": "code",
   "execution_count": 5,
   "id": "9cffdfe0",
   "metadata": {},
   "outputs": [
    {
     "name": "stdout",
     "output_type": "stream",
     "text": [
      "Enter a number :11\n",
      "the user_input is 11 and it is positive\n"
     ]
    }
   ],
   "source": [
    "user_input=int(input(\"Enter a number :\"))\n",
    "if user_input == 0:\n",
    "    print(\"the user input is {} and it is zero\".format(user_input))\n",
    "elif user_input<0:\n",
    "    print(\"the user_input is {} and it is negative\".formate(user_input)) #Elif is chained conditional\n",
    "\n",
    "else:\n",
    "    print(\"the user_input is {} and it is positive\".format(user_input))"
   ]
  },
  {
   "cell_type": "code",
   "execution_count": 2,
   "id": "4c7f12ed",
   "metadata": {},
   "outputs": [
    {
     "name": "stdout",
     "output_type": "stream",
     "text": [
      "Enter a number :1234\n",
      "the user input is 1234 and it is negative\n"
     ]
    }
   ],
   "source": [
    "user_input=int(input(\"Enter a number :\"))\n",
    "if user_input == 0 :\n",
    "    print(\"the user_input is {} and it is zero\".format(user_input))\n",
    "elif user_input < 0:\n",
    "    print(\"the user input is {} and it is positive\".format(user_input))\n",
    "else:\n",
    "    print(\"the user input is {} and it is negative\".format(user_input))"
   ]
  },
  {
   "cell_type": "code",
   "execution_count": null,
   "id": "f3324059",
   "metadata": {},
   "outputs": [],
   "source": []
  }
 ],
 "metadata": {
  "kernelspec": {
   "display_name": "Python 3 (ipykernel)",
   "language": "python",
   "name": "python3"
  },
  "language_info": {
   "codemirror_mode": {
    "name": "ipython",
    "version": 3
   },
   "file_extension": ".py",
   "mimetype": "text/x-python",
   "name": "python",
   "nbconvert_exporter": "python",
   "pygments_lexer": "ipython3",
   "version": "3.8.10"
  }
 },
 "nbformat": 4,
 "nbformat_minor": 5
}
