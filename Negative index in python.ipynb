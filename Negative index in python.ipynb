{
 "cells": [
  {
   "cell_type": "code",
   "execution_count": 3,
   "id": "87e539b8",
   "metadata": {},
   "outputs": [],
   "source": [
    "cars = ['bmw','honda', 'ford', 'tata']"
   ]
  },
  {
   "cell_type": "code",
   "execution_count": 4,
   "id": "07a7be50",
   "metadata": {},
   "outputs": [
    {
     "data": {
      "text/plain": [
       "'ford'"
      ]
     },
     "execution_count": 4,
     "metadata": {},
     "output_type": "execute_result"
    }
   ],
   "source": [
    "cars[-2]"
   ]
  },
  {
   "cell_type": "code",
   "execution_count": 21,
   "id": "aebfddbd",
   "metadata": {},
   "outputs": [
    {
     "name": "stdout",
     "output_type": "stream",
     "text": [
      "[]\n"
     ]
    }
   ],
   "source": [
    "print(cars[-2:2])"
   ]
  },
  {
   "cell_type": "code",
   "execution_count": 24,
   "id": "e2c90075",
   "metadata": {},
   "outputs": [
    {
     "data": {
      "text/plain": [
       "['Apple', 'Samsung', 'Huawei']"
      ]
     },
     "execution_count": 24,
     "metadata": {},
     "output_type": "execute_result"
    }
   ],
   "source": [
    "Mobile = ['Apple', 'Samsung', 'Huawei','Xioami','One plus']\n",
    "Mobile[-5:-2] # [lowest num : highest num]"
   ]
  },
  {
   "cell_type": "code",
   "execution_count": null,
   "id": "3071c6c5",
   "metadata": {},
   "outputs": [],
   "source": []
  }
 ],
 "metadata": {
  "kernelspec": {
   "display_name": "Python 3 (ipykernel)",
   "language": "python",
   "name": "python3"
  },
  "language_info": {
   "codemirror_mode": {
    "name": "ipython",
    "version": 3
   },
   "file_extension": ".py",
   "mimetype": "text/x-python",
   "name": "python",
   "nbconvert_exporter": "python",
   "pygments_lexer": "ipython3",
   "version": "3.8.10"
  }
 },
 "nbformat": 4,
 "nbformat_minor": 5
}
