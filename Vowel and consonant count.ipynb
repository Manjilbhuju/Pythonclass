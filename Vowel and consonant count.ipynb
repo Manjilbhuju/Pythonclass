{
 "cells": [
  {
   "cell_type": "code",
   "execution_count": 1,
   "id": "39cd77d9",
   "metadata": {},
   "outputs": [],
   "source": [
    "txt = \"HEllo world\"\n",
    "txt = txt.lower()\n",
    "consonant = 0\n",
    "vowel = 0"
   ]
  },
  {
   "cell_type": "code",
   "execution_count": 2,
   "id": "5a8fc3c0",
   "metadata": {},
   "outputs": [
    {
     "data": {
      "text/plain": [
       "'hello world'"
      ]
     },
     "execution_count": 2,
     "metadata": {},
     "output_type": "execute_result"
    }
   ],
   "source": [
    "txt"
   ]
  },
  {
   "cell_type": "code",
   "execution_count": 10,
   "id": "f90c98ce",
   "metadata": {},
   "outputs": [
    {
     "name": "stdout",
     "output_type": "stream",
     "text": [
      "vowel count 6 \n",
      "consonant count 14 \n"
     ]
    }
   ],
   "source": [
    "for index in range (0, len(txt), 1):\n",
    "    letter = txt[index]\n",
    "    if letter == 'a' or letter == 'e' or letter == 'i' or letter == 'o' or letter == 'u':\n",
    "        vowel = vowel + 1\n",
    "    elif letter == \" \":\n",
    "        continue\n",
    "    else:\n",
    "        consonant = consonant + 1\n",
    "print(\"vowel count {} \".format(vowel))\n",
    "print(\"consonant count {} \".format(consonant))"
   ]
  },
  {
   "cell_type": "code",
   "execution_count": 9,
   "id": "724867b5",
   "metadata": {},
   "outputs": [
    {
     "data": {
      "text/plain": [
       "3"
      ]
     },
     "execution_count": 9,
     "metadata": {},
     "output_type": "execute_result"
    }
   ],
   "source": [
    "vowel"
   ]
  },
  {
   "cell_type": "code",
   "execution_count": 6,
   "id": "7b1d4c65",
   "metadata": {},
   "outputs": [
    {
     "data": {
      "text/plain": [
       "7"
      ]
     },
     "execution_count": 6,
     "metadata": {},
     "output_type": "execute_result"
    }
   ],
   "source": [
    "consonant"
   ]
  },
  {
   "cell_type": "code",
   "execution_count": 11,
   "id": "84680036",
   "metadata": {},
   "outputs": [],
   "source": [
    "nxt=\"Hello world\""
   ]
  },
  {
   "cell_type": "code",
   "execution_count": 12,
   "id": "d8bfa7dc",
   "metadata": {},
   "outputs": [
    {
     "data": {
      "text/plain": [
       "'hello world'"
      ]
     },
     "execution_count": 12,
     "metadata": {},
     "output_type": "execute_result"
    }
   ],
   "source": [
    "nxt.lower()"
   ]
  },
  {
   "cell_type": "code",
   "execution_count": null,
   "id": "db9ac14e",
   "metadata": {},
   "outputs": [],
   "source": []
  }
 ],
 "metadata": {
  "kernelspec": {
   "display_name": "Python 3 (ipykernel)",
   "language": "python",
   "name": "python3"
  },
  "language_info": {
   "codemirror_mode": {
    "name": "ipython",
    "version": 3
   },
   "file_extension": ".py",
   "mimetype": "text/x-python",
   "name": "python",
   "nbconvert_exporter": "python",
   "pygments_lexer": "ipython3",
   "version": "3.8.10"
  }
 },
 "nbformat": 4,
 "nbformat_minor": 5
}
