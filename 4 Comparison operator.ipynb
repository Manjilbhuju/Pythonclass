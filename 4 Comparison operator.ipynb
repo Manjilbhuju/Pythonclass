{
 "cells": [
  {
   "cell_type": "code",
   "execution_count": 2,
   "id": "aeee9150",
   "metadata": {},
   "outputs": [
    {
     "name": "stdout",
     "output_type": "stream",
     "text": [
      "number are equal\n"
     ]
    }
   ],
   "source": [
    "if 10 == 10:\n",
    "    print(\"number are equal\")"
   ]
  },
  {
   "cell_type": "code",
   "execution_count": 3,
   "id": "9c655848",
   "metadata": {},
   "outputs": [
    {
     "data": {
      "text/plain": [
       "True"
      ]
     },
     "execution_count": 3,
     "metadata": {},
     "output_type": "execute_result"
    }
   ],
   "source": [
    "# equals to  \n",
    "2==2"
   ]
  },
  {
   "cell_type": "code",
   "execution_count": 4,
   "id": "dc154a03",
   "metadata": {},
   "outputs": [
    {
     "data": {
      "text/plain": [
       "True"
      ]
     },
     "execution_count": 4,
     "metadata": {},
     "output_type": "execute_result"
    }
   ],
   "source": [
    "2<3"
   ]
  },
  {
   "cell_type": "code",
   "execution_count": 6,
   "id": "b1969b83",
   "metadata": {},
   "outputs": [
    {
     "data": {
      "text/plain": [
       "True"
      ]
     },
     "execution_count": 6,
     "metadata": {},
     "output_type": "execute_result"
    }
   ],
   "source": [
    "5 != 6 # (!= not equals to)"
   ]
  },
  {
   "cell_type": "code",
   "execution_count": null,
   "id": "ed676b76",
   "metadata": {},
   "outputs": [],
   "source": []
  }
 ],
 "metadata": {
  "kernelspec": {
   "display_name": "Python 3 (ipykernel)",
   "language": "python",
   "name": "python3"
  },
  "language_info": {
   "codemirror_mode": {
    "name": "ipython",
    "version": 3
   },
   "file_extension": ".py",
   "mimetype": "text/x-python",
   "name": "python",
   "nbconvert_exporter": "python",
   "pygments_lexer": "ipython3",
   "version": "3.8.10"
  }
 },
 "nbformat": 4,
 "nbformat_minor": 5
}
