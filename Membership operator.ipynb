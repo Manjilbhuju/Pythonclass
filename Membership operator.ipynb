{
 "cells": [
  {
   "cell_type": "code",
   "execution_count": 1,
   "id": "607977d4",
   "metadata": {},
   "outputs": [],
   "source": [
    "fruits = ['apple', 'banana', 'mango', ' orange', 'pears']"
   ]
  },
  {
   "cell_type": "code",
   "execution_count": 3,
   "id": "c6269565",
   "metadata": {},
   "outputs": [
    {
     "data": {
      "text/plain": [
       "True"
      ]
     },
     "execution_count": 3,
     "metadata": {},
     "output_type": "execute_result"
    }
   ],
   "source": [
    "'pears' in fruits"
   ]
  },
  {
   "cell_type": "code",
   "execution_count": 4,
   "id": "dd216ff6",
   "metadata": {},
   "outputs": [
    {
     "data": {
      "text/plain": [
       "False"
      ]
     },
     "execution_count": 4,
     "metadata": {},
     "output_type": "execute_result"
    }
   ],
   "source": [
    "'grapes' in fruits"
   ]
  },
  {
   "cell_type": "code",
   "execution_count": 5,
   "id": "afec661a",
   "metadata": {},
   "outputs": [
    {
     "data": {
      "text/plain": [
       "True"
      ]
     },
     "execution_count": 5,
     "metadata": {},
     "output_type": "execute_result"
    }
   ],
   "source": [
    "'grapes' not in fruits"
   ]
  },
  {
   "cell_type": "code",
   "execution_count": 6,
   "id": "cfbe7980",
   "metadata": {},
   "outputs": [],
   "source": [
    "fruits = ['apple', 'banana', 'mango', ' orange', 'pears']"
   ]
  },
  {
   "cell_type": "code",
   "execution_count": 7,
   "id": "3e43f796",
   "metadata": {},
   "outputs": [],
   "source": [
    "fruits[0] = 'kiwi'"
   ]
  },
  {
   "cell_type": "code",
   "execution_count": 9,
   "id": "7093cdde",
   "metadata": {},
   "outputs": [
    {
     "data": {
      "text/plain": [
       "['kiwi', 'banana', 'mango', ' orange', 'pears']"
      ]
     },
     "execution_count": 9,
     "metadata": {},
     "output_type": "execute_result"
    }
   ],
   "source": [
    "fruits # python list is mutable"
   ]
  },
  {
   "cell_type": "code",
   "execution_count": 12,
   "id": "461f736b",
   "metadata": {},
   "outputs": [
    {
     "name": "stdout",
     "output_type": "stream",
     "text": [
      "['kiwi', 'strawberry', 'watermelon', ' orange', 'pears']\n"
     ]
    }
   ],
   "source": [
    "fruits[1:3] = ['strawberry','watermelon']\n",
    "print(fruits)"
   ]
  },
  {
   "cell_type": "code",
   "execution_count": null,
   "id": "6098a012",
   "metadata": {},
   "outputs": [],
   "source": []
  }
 ],
 "metadata": {
  "kernelspec": {
   "display_name": "Python 3 (ipykernel)",
   "language": "python",
   "name": "python3"
  },
  "language_info": {
   "codemirror_mode": {
    "name": "ipython",
    "version": 3
   },
   "file_extension": ".py",
   "mimetype": "text/x-python",
   "name": "python",
   "nbconvert_exporter": "python",
   "pygments_lexer": "ipython3",
   "version": "3.8.10"
  }
 },
 "nbformat": 4,
 "nbformat_minor": 5
}
