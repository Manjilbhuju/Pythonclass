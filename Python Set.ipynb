{
 "cells": [
  {
   "cell_type": "code",
   "execution_count": 1,
   "id": "d738ba8f",
   "metadata": {},
   "outputs": [],
   "source": [
    "set1 = {\"apple\", \"banana\", \"cherry\"}"
   ]
  },
  {
   "cell_type": "code",
   "execution_count": 2,
   "id": "05f7b298",
   "metadata": {},
   "outputs": [
    {
     "data": {
      "text/plain": [
       "set"
      ]
     },
     "execution_count": 2,
     "metadata": {},
     "output_type": "execute_result"
    }
   ],
   "source": [
    "type(set1)"
   ]
  },
  {
   "cell_type": "code",
   "execution_count": 6,
   "id": "09c810e9",
   "metadata": {},
   "outputs": [
    {
     "name": "stdout",
     "output_type": "stream",
     "text": [
      "{'banana', 'cherry', 'apple'}\n"
     ]
    }
   ],
   "source": [
    "print(set1) #unindexed"
   ]
  },
  {
   "cell_type": "code",
   "execution_count": 7,
   "id": "7b4b5d7c",
   "metadata": {},
   "outputs": [
    {
     "ename": "TypeError",
     "evalue": "'set' object is not subscriptable",
     "output_type": "error",
     "traceback": [
      "\u001b[1;31m---------------------------------------------------------------------------\u001b[0m",
      "\u001b[1;31mTypeError\u001b[0m                                 Traceback (most recent call last)",
      "Input \u001b[1;32mIn [7]\u001b[0m, in \u001b[0;36m<cell line: 1>\u001b[1;34m()\u001b[0m\n\u001b[1;32m----> 1\u001b[0m \u001b[43mset1\u001b[49m\u001b[43m[\u001b[49m\u001b[38;5;241;43m0\u001b[39;49m\u001b[43m]\u001b[49m\n",
      "\u001b[1;31mTypeError\u001b[0m: 'set' object is not subscriptable"
     ]
    }
   ],
   "source": [
    "set1[0] #unindexed"
   ]
  },
  {
   "cell_type": "code",
   "execution_count": 9,
   "id": "759828b9",
   "metadata": {},
   "outputs": [
    {
     "ename": "TypeError",
     "evalue": "'set' object does not support item assignment",
     "output_type": "error",
     "traceback": [
      "\u001b[1;31m---------------------------------------------------------------------------\u001b[0m",
      "\u001b[1;31mTypeError\u001b[0m                                 Traceback (most recent call last)",
      "Input \u001b[1;32mIn [9]\u001b[0m, in \u001b[0;36m<cell line: 1>\u001b[1;34m()\u001b[0m\n\u001b[1;32m----> 1\u001b[0m \u001b[43mset1\u001b[49m\u001b[43m[\u001b[49m\u001b[38;5;241;43m0\u001b[39;49m\u001b[43m]\u001b[49m \u001b[38;5;241m=\u001b[39m \u001b[38;5;124m\"\u001b[39m\u001b[38;5;124mkiwi\u001b[39m\u001b[38;5;124m\"\u001b[39m\n",
      "\u001b[1;31mTypeError\u001b[0m: 'set' object does not support item assignment"
     ]
    }
   ],
   "source": [
    "set1[0] = \"kiwi\" #unchangeable"
   ]
  },
  {
   "cell_type": "markdown",
   "id": "b9657865",
   "metadata": {},
   "source": [
    "# Remove item in python set"
   ]
  },
  {
   "cell_type": "code",
   "execution_count": 10,
   "id": "6cf916e5",
   "metadata": {},
   "outputs": [],
   "source": [
    "cities = {\"kathmandu\", \"bhaktapur\", \"lalitpur\",\"kavre\", \"nuwakot\"}"
   ]
  },
  {
   "cell_type": "code",
   "execution_count": 11,
   "id": "748e1153",
   "metadata": {},
   "outputs": [],
   "source": [
    "cities.remove(\"kavre\")"
   ]
  },
  {
   "cell_type": "code",
   "execution_count": 12,
   "id": "9c8ea143",
   "metadata": {},
   "outputs": [
    {
     "data": {
      "text/plain": [
       "{'bhaktapur', 'kathmandu', 'lalitpur', 'nuwakot'}"
      ]
     },
     "execution_count": 12,
     "metadata": {},
     "output_type": "execute_result"
    }
   ],
   "source": [
    "cities"
   ]
  },
  {
   "cell_type": "code",
   "execution_count": 13,
   "id": "16f4d8bc",
   "metadata": {},
   "outputs": [
    {
     "ename": "KeyError",
     "evalue": "'butwal'",
     "output_type": "error",
     "traceback": [
      "\u001b[1;31m---------------------------------------------------------------------------\u001b[0m",
      "\u001b[1;31mKeyError\u001b[0m                                  Traceback (most recent call last)",
      "Input \u001b[1;32mIn [13]\u001b[0m, in \u001b[0;36m<cell line: 1>\u001b[1;34m()\u001b[0m\n\u001b[1;32m----> 1\u001b[0m \u001b[43mcities\u001b[49m\u001b[38;5;241;43m.\u001b[39;49m\u001b[43mremove\u001b[49m\u001b[43m(\u001b[49m\u001b[38;5;124;43m\"\u001b[39;49m\u001b[38;5;124;43mbutwal\u001b[39;49m\u001b[38;5;124;43m\"\u001b[39;49m\u001b[43m)\u001b[49m\n",
      "\u001b[1;31mKeyError\u001b[0m: 'butwal'"
     ]
    }
   ],
   "source": [
    "cities.remove(\"butwal\")"
   ]
  },
  {
   "cell_type": "code",
   "execution_count": 14,
   "id": "fdef9a31",
   "metadata": {},
   "outputs": [],
   "source": [
    "cities.add(\"butwal\")"
   ]
  },
  {
   "cell_type": "code",
   "execution_count": 15,
   "id": "1c10c598",
   "metadata": {},
   "outputs": [
    {
     "data": {
      "text/plain": [
       "{'bhaktapur', 'butwal', 'kathmandu', 'lalitpur', 'nuwakot'}"
      ]
     },
     "execution_count": 15,
     "metadata": {},
     "output_type": "execute_result"
    }
   ],
   "source": [
    "cities"
   ]
  },
  {
   "cell_type": "code",
   "execution_count": 16,
   "id": "47b90524",
   "metadata": {},
   "outputs": [],
   "source": [
    "l = [22,33,22,1,4,33]"
   ]
  },
  {
   "cell_type": "code",
   "execution_count": 18,
   "id": "61cf12d3",
   "metadata": {},
   "outputs": [
    {
     "data": {
      "text/plain": [
       "{1, 4, 22, 33}"
      ]
     },
     "execution_count": 18,
     "metadata": {},
     "output_type": "execute_result"
    }
   ],
   "source": [
    "set(l) #Set gives unique value"
   ]
  },
  {
   "cell_type": "code",
   "execution_count": 19,
   "id": "9c47e50f",
   "metadata": {},
   "outputs": [],
   "source": [
    "#assignment typecast tuple to set"
   ]
  },
  {
   "cell_type": "code",
   "execution_count": 20,
   "id": "9e28bca4",
   "metadata": {},
   "outputs": [
    {
     "name": "stdout",
     "output_type": "stream",
     "text": [
      "kathmandu\n",
      "bhaktapur\n",
      "lalitpur\n",
      "kavre\n",
      "nuwakot\n"
     ]
    }
   ],
   "source": [
    "cities = {\"kathmandu\", \"bhaktapur\", \"lalitpur\",\"kavre\", \"nuwakot\"}\n",
    "for item in cities:\n",
    "    print(item)"
   ]
  },
  {
   "cell_type": "code",
   "execution_count": 21,
   "id": "36c1f605",
   "metadata": {},
   "outputs": [
    {
     "data": {
      "text/plain": [
       "('kathmandu', 'bhaktapur', 'lalitpur', 'kavre', 'nuwakot')"
      ]
     },
     "execution_count": 21,
     "metadata": {},
     "output_type": "execute_result"
    }
   ],
   "source": [
    "tuple(cities)"
   ]
  },
  {
   "cell_type": "markdown",
   "id": "1a8c6cbb",
   "metadata": {},
   "source": [
    "# Set Operation"
   ]
  },
  {
   "cell_type": "code",
   "execution_count": 22,
   "id": "e282d5c3",
   "metadata": {},
   "outputs": [],
   "source": [
    "A = {\"apple\", \"banana\", \"cherry\"}\n",
    "B = {\"google\", \"microsoft\", \"apple\"}"
   ]
  },
  {
   "cell_type": "code",
   "execution_count": 24,
   "id": "059b43aa",
   "metadata": {},
   "outputs": [
    {
     "data": {
      "text/plain": [
       "{'apple', 'banana', 'cherry', 'google', 'microsoft'}"
      ]
     },
     "execution_count": 24,
     "metadata": {},
     "output_type": "execute_result"
    }
   ],
   "source": [
    "A.union(B)"
   ]
  },
  {
   "cell_type": "code",
   "execution_count": 25,
   "id": "2003b741",
   "metadata": {},
   "outputs": [
    {
     "data": {
      "text/plain": [
       "{'apple'}"
      ]
     },
     "execution_count": 25,
     "metadata": {},
     "output_type": "execute_result"
    }
   ],
   "source": [
    "A.intersection(B)"
   ]
  },
  {
   "cell_type": "code",
   "execution_count": 28,
   "id": "912a76b1",
   "metadata": {},
   "outputs": [
    {
     "data": {
      "text/plain": [
       "{'banana', 'cherry'}"
      ]
     },
     "execution_count": 28,
     "metadata": {},
     "output_type": "execute_result"
    }
   ],
   "source": [
    "A.difference(B)\n",
    "A-B"
   ]
  },
  {
   "cell_type": "code",
   "execution_count": 27,
   "id": "c5668b18",
   "metadata": {},
   "outputs": [
    {
     "data": {
      "text/plain": [
       "{'google', 'microsoft'}"
      ]
     },
     "execution_count": 27,
     "metadata": {},
     "output_type": "execute_result"
    }
   ],
   "source": [
    "B.difference(A)"
   ]
  },
  {
   "cell_type": "markdown",
   "id": "dc0ef2ab",
   "metadata": {},
   "source": [
    "# Frozen set is the immutable version of python set"
   ]
  },
  {
   "cell_type": "code",
   "execution_count": 29,
   "id": "02bb8cf7",
   "metadata": {},
   "outputs": [],
   "source": [
    "A = {\"apple\", \"banana\", \"cherry\"}"
   ]
  },
  {
   "cell_type": "code",
   "execution_count": 30,
   "id": "b0f46caf",
   "metadata": {},
   "outputs": [],
   "source": [
    "A = frozenset(A)"
   ]
  },
  {
   "cell_type": "code",
   "execution_count": 31,
   "id": "8babce44",
   "metadata": {},
   "outputs": [
    {
     "data": {
      "text/plain": [
       "frozenset({'apple', 'banana', 'cherry'})"
      ]
     },
     "execution_count": 31,
     "metadata": {},
     "output_type": "execute_result"
    }
   ],
   "source": [
    "A"
   ]
  },
  {
   "cell_type": "code",
   "execution_count": 32,
   "id": "514dc338",
   "metadata": {},
   "outputs": [
    {
     "ename": "AttributeError",
     "evalue": "'frozenset' object has no attribute 'add'",
     "output_type": "error",
     "traceback": [
      "\u001b[1;31m---------------------------------------------------------------------------\u001b[0m",
      "\u001b[1;31mAttributeError\u001b[0m                            Traceback (most recent call last)",
      "Input \u001b[1;32mIn [32]\u001b[0m, in \u001b[0;36m<cell line: 1>\u001b[1;34m()\u001b[0m\n\u001b[1;32m----> 1\u001b[0m \u001b[43mA\u001b[49m\u001b[38;5;241;43m.\u001b[39;49m\u001b[43madd\u001b[49m(\u001b[38;5;124m\"\u001b[39m\u001b[38;5;124mmango\u001b[39m\u001b[38;5;124m\"\u001b[39m)\n",
      "\u001b[1;31mAttributeError\u001b[0m: 'frozenset' object has no attribute 'add'"
     ]
    }
   ],
   "source": [
    "A.add(\"mango\")"
   ]
  },
  {
   "cell_type": "code",
   "execution_count": null,
   "id": "55905868",
   "metadata": {},
   "outputs": [],
   "source": [
    " "
   ]
  }
 ],
 "metadata": {
  "kernelspec": {
   "display_name": "Python 3 (ipykernel)",
   "language": "python",
   "name": "python3"
  },
  "language_info": {
   "codemirror_mode": {
    "name": "ipython",
    "version": 3
   },
   "file_extension": ".py",
   "mimetype": "text/x-python",
   "name": "python",
   "nbconvert_exporter": "python",
   "pygments_lexer": "ipython3",
   "version": "3.8.10"
  }
 },
 "nbformat": 4,
 "nbformat_minor": 5
}
