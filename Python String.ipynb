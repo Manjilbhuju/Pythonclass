{
 "cells": [
  {
   "cell_type": "code",
   "execution_count": 8,
   "id": "f98426c1",
   "metadata": {},
   "outputs": [],
   "source": [
    "greet=\"Hello world\""
   ]
  },
  {
   "cell_type": "code",
   "execution_count": 9,
   "id": "60576e07",
   "metadata": {},
   "outputs": [
    {
     "data": {
      "text/plain": [
       "str"
      ]
     },
     "execution_count": 9,
     "metadata": {},
     "output_type": "execute_result"
    }
   ],
   "source": [
    "type(\"greet\")"
   ]
  },
  {
   "cell_type": "code",
   "execution_count": 10,
   "id": "5f81bcae",
   "metadata": {},
   "outputs": [],
   "source": [
    "multilinestring = \"\"\" Hello, Good morning\n",
    "I am Manjil\n",
    "\"\"\""
   ]
  },
  {
   "cell_type": "code",
   "execution_count": 11,
   "id": "34baa3b2",
   "metadata": {},
   "outputs": [
    {
     "data": {
      "text/plain": [
       "' Hello, Good morning\\nI am Manjil\\n'"
      ]
     },
     "execution_count": 11,
     "metadata": {},
     "output_type": "execute_result"
    }
   ],
   "source": [
    "multilinestring"
   ]
  },
  {
   "cell_type": "code",
   "execution_count": 12,
   "id": "c8c11f03",
   "metadata": {},
   "outputs": [],
   "source": [
    "txt = \"hi\"\n",
    "nxt = 'hi'"
   ]
  },
  {
   "cell_type": "code",
   "execution_count": 13,
   "id": "482eb0a8",
   "metadata": {},
   "outputs": [
    {
     "name": "stdout",
     "output_type": "stream",
     "text": [
      "equal\n"
     ]
    }
   ],
   "source": [
    "if txt==nxt:\n",
    "    print(\"equal\")"
   ]
  },
  {
   "cell_type": "code",
   "execution_count": 14,
   "id": "fbfef393",
   "metadata": {},
   "outputs": [
    {
     "ename": "AssertionError",
     "evalue": "",
     "output_type": "error",
     "traceback": [
      "\u001b[1;31m---------------------------------------------------------------------------\u001b[0m",
      "\u001b[1;31mAssertionError\u001b[0m                            Traceback (most recent call last)",
      "Input \u001b[1;32mIn [14]\u001b[0m, in \u001b[0;36m<cell line: 3>\u001b[1;34m()\u001b[0m\n\u001b[0;32m      1\u001b[0m txt \u001b[38;5;241m=\u001b[39m \u001b[38;5;124m\"\u001b[39m\u001b[38;5;124mhi,\u001b[39m\u001b[38;5;124m\"\u001b[39m\n\u001b[0;32m      2\u001b[0m nxt \u001b[38;5;241m=\u001b[39m \u001b[38;5;124m'\u001b[39m\u001b[38;5;124mhi\u001b[39m\u001b[38;5;124m'\u001b[39m\n\u001b[1;32m----> 3\u001b[0m \u001b[38;5;28;01massert\u001b[39;00m txt \u001b[38;5;241m==\u001b[39m nxt\n",
      "\u001b[1;31mAssertionError\u001b[0m: "
     ]
    }
   ],
   "source": [
    "txt = \"hi,\"\n",
    "nxt = 'hi'\n",
    "assert txt == nxt #assert is keyword in python"
   ]
  },
  {
   "cell_type": "code",
   "execution_count": 5,
   "id": "8c27a82f",
   "metadata": {},
   "outputs": [],
   "source": [
    "txt = \"Hi,Good morning\""
   ]
  },
  {
   "cell_type": "code",
   "execution_count": 6,
   "id": "1328bbaf",
   "metadata": {},
   "outputs": [
    {
     "data": {
      "text/plain": [
       "'i'"
      ]
     },
     "execution_count": 6,
     "metadata": {},
     "output_type": "execute_result"
    }
   ],
   "source": [
    "txt[1] # indexing stars from zero"
   ]
  },
  {
   "cell_type": "code",
   "execution_count": 8,
   "id": "d2e06b54",
   "metadata": {},
   "outputs": [
    {
     "data": {
      "text/plain": [
       "'H'"
      ]
     },
     "execution_count": 8,
     "metadata": {},
     "output_type": "execute_result"
    }
   ],
   "source": [
    "txt[0] # [] means index"
   ]
  },
  {
   "cell_type": "code",
   "execution_count": 1,
   "id": "a7ad2c65",
   "metadata": {},
   "outputs": [
    {
     "ename": "NameError",
     "evalue": "name 'txt' is not defined",
     "output_type": "error",
     "traceback": [
      "\u001b[1;31m---------------------------------------------------------------------------\u001b[0m",
      "\u001b[1;31mNameError\u001b[0m                                 Traceback (most recent call last)",
      "Input \u001b[1;32mIn [1]\u001b[0m, in \u001b[0;36m<cell line: 1>\u001b[1;34m()\u001b[0m\n\u001b[1;32m----> 1\u001b[0m \u001b[43mtxt\u001b[49m[\u001b[38;5;241m0.1\u001b[39m]\n",
      "\u001b[1;31mNameError\u001b[0m: name 'txt' is not defined"
     ]
    }
   ],
   "source": [
    "txt[0.1] # string indices must be integers"
   ]
  },
  {
   "cell_type": "code",
   "execution_count": 10,
   "id": "f4943932",
   "metadata": {},
   "outputs": [],
   "source": [
    "txt=\"Hello world\""
   ]
  },
  {
   "cell_type": "code",
   "execution_count": 11,
   "id": "e33bfc70",
   "metadata": {},
   "outputs": [
    {
     "data": {
      "text/plain": [
       "11"
      ]
     },
     "execution_count": 11,
     "metadata": {},
     "output_type": "execute_result"
    }
   ],
   "source": [
    "len(txt) #( len gives the number of alphabets, space and any special characters present)"
   ]
  },
  {
   "cell_type": "code",
   "execution_count": 12,
   "id": "e65cff34",
   "metadata": {},
   "outputs": [
    {
     "data": {
      "text/plain": [
       "'d'"
      ]
     },
     "execution_count": 12,
     "metadata": {},
     "output_type": "execute_result"
    }
   ],
   "source": [
    "txt[10]"
   ]
  },
  {
   "cell_type": "markdown",
   "id": "96d890db",
   "metadata": {},
   "source": [
    "# Range"
   ]
  },
  {
   "cell_type": "code",
   "execution_count": 22,
   "id": "b4f8c256",
   "metadata": {},
   "outputs": [],
   "source": [
    "txt=\"Hello world\""
   ]
  },
  {
   "cell_type": "code",
   "execution_count": 23,
   "id": "d3d74da2",
   "metadata": {},
   "outputs": [],
   "source": [
    "start = 0\n",
    "step = 1"
   ]
  },
  {
   "cell_type": "code",
   "execution_count": 24,
   "id": "d92377c8",
   "metadata": {},
   "outputs": [],
   "source": [
    "stop = len(txt)"
   ]
  },
  {
   "cell_type": "code",
   "execution_count": 25,
   "id": "565a7fd4",
   "metadata": {},
   "outputs": [
    {
     "data": {
      "text/plain": [
       "range(0, 11)"
      ]
     },
     "execution_count": 25,
     "metadata": {},
     "output_type": "execute_result"
    }
   ],
   "source": [
    "range(start,stop,step)"
   ]
  },
  {
   "cell_type": "markdown",
   "id": "9e47d2af",
   "metadata": {},
   "source": [
    "# for loop in python program"
   ]
  },
  {
   "cell_type": "code",
   "execution_count": 26,
   "id": "a522d383",
   "metadata": {},
   "outputs": [],
   "source": [
    "txt=\"Hello world\"\n",
    "\n",
    "start = 0\n",
    "step = 1\n",
    "stop = len(txt)"
   ]
  },
  {
   "cell_type": "code",
   "execution_count": 27,
   "id": "9b5f1aa9",
   "metadata": {},
   "outputs": [
    {
     "name": "stdout",
     "output_type": "stream",
     "text": [
      "/n\n",
      "0\n",
      "/n\n",
      "1\n",
      "/n\n",
      "2\n",
      "/n\n",
      "3\n",
      "/n\n",
      "4\n",
      "/n\n",
      "5\n",
      "/n\n",
      "6\n",
      "/n\n",
      "7\n",
      "/n\n",
      "8\n",
      "/n\n",
      "9\n",
      "/n\n",
      "10\n"
     ]
    }
   ],
   "source": [
    "for index in range(start, stop, step):\n",
    "    print(\"/n\")\n",
    "    print(index)"
   ]
  },
  {
   "cell_type": "code",
   "execution_count": 28,
   "id": "17f1866d",
   "metadata": {},
   "outputs": [
    {
     "name": "stdout",
     "output_type": "stream",
     "text": [
      "the index is 0 and the letter is H\n",
      "the index is 1 and the letter is e\n",
      "the index is 2 and the letter is l\n",
      "the index is 3 and the letter is l\n",
      "the index is 4 and the letter is o\n",
      "the index is 5 and the letter is  \n",
      "the index is 6 and the letter is w\n",
      "the index is 7 and the letter is o\n",
      "the index is 8 and the letter is r\n",
      "the index is 9 and the letter is l\n",
      "the index is 10 and the letter is d\n"
     ]
    }
   ],
   "source": [
    "for index in range(start, stop, step):\n",
    "    letter=txt[index]\n",
    "    print(\"the index is {} and the letter is {}\".format(index,letter))"
   ]
  },
  {
   "cell_type": "code",
   "execution_count": 15,
   "id": "5a60ed7a",
   "metadata": {},
   "outputs": [],
   "source": [
    "txt=\"Hello world\"\n",
    "\n",
    "start = len(txt) - 1\n",
    "step = -1\n",
    "stop = -1"
   ]
  },
  {
   "cell_type": "code",
   "execution_count": 16,
   "id": "45d544ef",
   "metadata": {},
   "outputs": [
    {
     "name": "stdout",
     "output_type": "stream",
     "text": [
      "the index is 10 and the item is d \n",
      "the index is 9 and the item is l \n",
      "the index is 8 and the item is r \n",
      "the index is 7 and the item is o \n",
      "the index is 6 and the item is w \n",
      "the index is 5 and the item is   \n",
      "the index is 4 and the item is o \n",
      "the index is 3 and the item is l \n",
      "the index is 2 and the item is l \n",
      "the index is 1 and the item is e \n",
      "the index is 0 and the item is H \n"
     ]
    }
   ],
   "source": [
    "for index in range(start, stop, step):\n",
    "    print(\"the index is {} and the item is {} \".format(index, txt[index]))"
   ]
  },
  {
   "cell_type": "markdown",
   "id": "226d4404",
   "metadata": {},
   "source": [
    "# CW WAP to print"
   ]
  },
  {
   "cell_type": "code",
   "execution_count": 52,
   "id": "ca4bb3bd",
   "metadata": {},
   "outputs": [],
   "source": [
    "j = \"aeyi\""
   ]
  },
  {
   "cell_type": "code",
   "execution_count": 59,
   "id": "6d05a0f5",
   "metadata": {},
   "outputs": [],
   "source": [
    "start = 0\n",
    "stop = len(j)\n",
    "step = 1\n",
    "for index in range(start, stop, step):\n",
    "    letter = j[index]\n"
   ]
  },
  {
   "cell_type": "code",
   "execution_count": 60,
   "id": "1c717634",
   "metadata": {},
   "outputs": [
    {
     "name": "stdout",
     "output_type": "stream",
     "text": [
      "vowel\n"
     ]
    }
   ],
   "source": [
    "if letter == 'a':\n",
    "    print(\"Vowel\")\n",
    "elif letter == 'e':\n",
    "    print(\"vowel\")\n",
    "elif letter == 'i':\n",
    "    print(\"vowel\")\n",
    "else:\n",
    "    print(\"consonant\")"
   ]
  },
  {
   "cell_type": "code",
   "execution_count": 66,
   "id": "8bb01dc8",
   "metadata": {},
   "outputs": [
    {
     "name": "stdout",
     "output_type": "stream",
     "text": [
      "a is vowels\n",
      "e is vowels\n",
      "y is consonant\n",
      "i is vowels\n"
     ]
    }
   ],
   "source": [
    "for index in range(start, stop, step):\n",
    "    letter=j[index]\n",
    "    if letter=='a' or letter=='e' or letter=='i' or letter=='o' and letter=='u':\n",
    "        print(\"{} is vowels\".format(letter))\n",
    "    else:\n",
    "        print(\"{} is consonant\".format(letter))"
   ]
  },
  {
   "cell_type": "code",
   "execution_count": 65,
   "id": "cad2d72c",
   "metadata": {},
   "outputs": [
    {
     "name": "stdout",
     "output_type": "stream",
     "text": [
      "T is consonant\n",
      "h is consonant\n",
      "i is vowels\n",
      "s is consonant\n",
      "i is vowels\n",
      "s is consonant\n",
      "n is consonant\n",
      "e is vowels\n",
      "w is consonant\n",
      "c is consonant\n",
      "l is consonant\n",
      "a is vowels\n",
      "s is consonant\n",
      "s is consonant\n"
     ]
    }
   ],
   "source": [
    "s = \"This is new class\"\n",
    "start = 0\n",
    "end = len(s)\n",
    "step = 1\n",
    "for index in range(start, end, step):\n",
    "    letter=s[index]\n",
    "    if letter=='a' or letter=='e' or letter=='i' or letter=='o' or letter=='u':\n",
    "        print(\"{} is vowels\".format(letter))\n",
    "    elif letter == \" \":\n",
    "        continue\n",
    "    else:\n",
    "        print(\"{} is consonant\".format(letter))"
   ]
  },
  {
   "cell_type": "code",
   "execution_count": 67,
   "id": "909e6fb4",
   "metadata": {},
   "outputs": [
    {
     "name": "stdout",
     "output_type": "stream",
     "text": [
      "T is consonant\n",
      "h is consonant\n",
      "i is vowels\n",
      "s is consonant\n"
     ]
    }
   ],
   "source": [
    "s = \"This is new class\"\n",
    "start = 0\n",
    "end = len(s)\n",
    "step = 1\n",
    "for index in range(start, end, step):\n",
    "    letter=s[index]\n",
    "    if letter=='a' or letter=='e' or letter=='i' or letter=='o' or letter=='u':\n",
    "        print(\"{} is vowels\".format(letter))\n",
    "    elif letter == \" \":\n",
    "        break\n",
    "    else:\n",
    "        print(\"{} is consonant\".format(letter))"
   ]
  },
  {
   "cell_type": "code",
   "execution_count": null,
   "id": "21756d97",
   "metadata": {},
   "outputs": [],
   "source": []
  }
 ],
 "metadata": {
  "kernelspec": {
   "display_name": "Python 3 (ipykernel)",
   "language": "python",
   "name": "python3"
  },
  "language_info": {
   "codemirror_mode": {
    "name": "ipython",
    "version": 3
   },
   "file_extension": ".py",
   "mimetype": "text/x-python",
   "name": "python",
   "nbconvert_exporter": "python",
   "pygments_lexer": "ipython3",
   "version": "3.8.10"
  }
 },
 "nbformat": 4,
 "nbformat_minor": 5
}
