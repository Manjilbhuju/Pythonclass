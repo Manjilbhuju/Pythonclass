{
 "cells": [
  {
   "cell_type": "code",
   "execution_count": 13,
   "id": "5ebca6a0",
   "metadata": {},
   "outputs": [],
   "source": [
    "def square(num):\n",
    "    return num**2"
   ]
  },
  {
   "cell_type": "code",
   "execution_count": 14,
   "id": "c47c446e",
   "metadata": {},
   "outputs": [
    {
     "data": {
      "text/plain": [
       "25"
      ]
     },
     "execution_count": 14,
     "metadata": {},
     "output_type": "execute_result"
    }
   ],
   "source": [
    "square(5)"
   ]
  },
  {
   "cell_type": "code",
   "execution_count": 15,
   "id": "ffd8279c",
   "metadata": {},
   "outputs": [],
   "source": [
    "sq = lambda num : num**2"
   ]
  },
  {
   "cell_type": "code",
   "execution_count": 16,
   "id": "713b8f83",
   "metadata": {},
   "outputs": [
    {
     "data": {
      "text/plain": [
       "25"
      ]
     },
     "execution_count": 16,
     "metadata": {},
     "output_type": "execute_result"
    }
   ],
   "source": [
    "sq(5)"
   ]
  },
  {
   "cell_type": "code",
   "execution_count": 17,
   "id": "336dcc92",
   "metadata": {},
   "outputs": [
    {
     "data": {
      "text/plain": [
       "[2, 4, 6, 8]"
      ]
     },
     "execution_count": 17,
     "metadata": {},
     "output_type": "execute_result"
    }
   ],
   "source": [
    "a = [1,2,3,4,5,6,7,8]\n",
    "list(filter(lambda x: x % 2 == 0, a))"
   ]
  },
  {
   "cell_type": "code",
   "execution_count": 18,
   "id": "53279d0e",
   "metadata": {},
   "outputs": [],
   "source": [
    "find_sum = lambda x, y: x + y"
   ]
  },
  {
   "cell_type": "code",
   "execution_count": 19,
   "id": "58704ef6",
   "metadata": {},
   "outputs": [
    {
     "data": {
      "text/plain": [
       "478"
      ]
     },
     "execution_count": 19,
     "metadata": {},
     "output_type": "execute_result"
    }
   ],
   "source": [
    "find_sum(124,354)"
   ]
  },
  {
   "cell_type": "markdown",
   "id": "14e24339",
   "metadata": {},
   "source": [
    "# Nested for loop"
   ]
  },
  {
   "cell_type": "code",
   "execution_count": 20,
   "id": "3a165958",
   "metadata": {},
   "outputs": [
    {
     "name": "stdout",
     "output_type": "stream",
     "text": [
      "----------\n",
      "i = 0\n",
      "----------\n",
      "j = 0\n",
      "j = 1\n",
      "j = 2\n",
      "----------\n",
      "i = 1\n",
      "----------\n",
      "j = 0\n",
      "j = 1\n",
      "j = 2\n",
      "----------\n",
      "i = 2\n",
      "----------\n",
      "j = 0\n",
      "j = 1\n",
      "j = 2\n",
      "----------\n",
      "i = 3\n",
      "----------\n",
      "j = 0\n",
      "j = 1\n",
      "j = 2\n",
      "----------\n",
      "i = 4\n",
      "----------\n",
      "j = 0\n",
      "j = 1\n",
      "j = 2\n"
     ]
    }
   ],
   "source": [
    "for i in range(5):\n",
    "    print(\"----------\")\n",
    "    print(\"i = {}\".format(i))\n",
    "    print(\"----------\")\n",
    "    for j in range(3):\n",
    "        print(\"j = {}\".format(j))"
   ]
  },
  {
   "cell_type": "code",
   "execution_count": 2,
   "id": "5b9e2bf7",
   "metadata": {},
   "outputs": [],
   "source": [
    "data = [[44,55],[66,77,1,0],[1,0,9,2,1,6],[5]]"
   ]
  },
  {
   "cell_type": "code",
   "execution_count": 3,
   "id": "778d457a",
   "metadata": {},
   "outputs": [],
   "source": [
    "mean = []\n",
    "\n",
    "for item in data:\n",
    "    total = 0\n",
    "    for j in item:\n",
    "        total = total + j\n",
    "    mean.append(total/len(item))"
   ]
  },
  {
   "cell_type": "code",
   "execution_count": 4,
   "id": "1eb26101",
   "metadata": {},
   "outputs": [
    {
     "data": {
      "text/plain": [
       "[49.5, 36.0, 3.1666666666666665, 5.0]"
      ]
     },
     "execution_count": 4,
     "metadata": {},
     "output_type": "execute_result"
    }
   ],
   "source": [
    "mean"
   ]
  },
  {
   "cell_type": "code",
   "execution_count": null,
   "id": "a86f6089",
   "metadata": {},
   "outputs": [],
   "source": []
  }
 ],
 "metadata": {
  "kernelspec": {
   "display_name": "Python 3 (ipykernel)",
   "language": "python",
   "name": "python3"
  },
  "language_info": {
   "codemirror_mode": {
    "name": "ipython",
    "version": 3
   },
   "file_extension": ".py",
   "mimetype": "text/x-python",
   "name": "python",
   "nbconvert_exporter": "python",
   "pygments_lexer": "ipython3",
   "version": "3.8.10"
  }
 },
 "nbformat": 4,
 "nbformat_minor": 5
}
