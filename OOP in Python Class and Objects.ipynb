{
 "cells": [
  {
   "cell_type": "code",
   "execution_count": 1,
   "id": "8e5568e6",
   "metadata": {},
   "outputs": [],
   "source": [
    "class person:\n",
    "    pass"
   ]
  },
  {
   "cell_type": "code",
   "execution_count": 4,
   "id": "b4d86507",
   "metadata": {},
   "outputs": [],
   "source": [
    "obj = person() # creating object"
   ]
  },
  {
   "cell_type": "code",
   "execution_count": 5,
   "id": "c36b077a",
   "metadata": {},
   "outputs": [
    {
     "data": {
      "text/plain": [
       "<__main__.person at 0x24587598f40>"
      ]
     },
     "execution_count": 5,
     "metadata": {},
     "output_type": "execute_result"
    }
   ],
   "source": [
    "obj"
   ]
  },
  {
   "cell_type": "code",
   "execution_count": 6,
   "id": "ee1f5a3a",
   "metadata": {},
   "outputs": [
    {
     "name": "stdout",
     "output_type": "stream",
     "text": [
      "<class '__main__.person'>\n"
     ]
    }
   ],
   "source": [
    "print(type(obj))"
   ]
  },
  {
   "cell_type": "code",
   "execution_count": 7,
   "id": "2441e155",
   "metadata": {},
   "outputs": [],
   "source": [
    "# main is entry point of python code"
   ]
  },
  {
   "cell_type": "code",
   "execution_count": 8,
   "id": "bea2e6ac",
   "metadata": {},
   "outputs": [
    {
     "name": "stdout",
     "output_type": "stream",
     "text": [
      "<__main__.person object at 0x000002458759D400>\n"
     ]
    }
   ],
   "source": [
    "if __name__==\"__main__\": # entrypoint of python code\n",
    "    obj = person()\n",
    "    print(obj)"
   ]
  },
  {
   "cell_type": "code",
   "execution_count": 9,
   "id": "41404f52",
   "metadata": {},
   "outputs": [],
   "source": [
    "class person:\n",
    "    age=40 #Class attribute"
   ]
  },
  {
   "cell_type": "code",
   "execution_count": 10,
   "id": "72ff99ec",
   "metadata": {},
   "outputs": [],
   "source": [
    "p1 = person()"
   ]
  },
  {
   "cell_type": "code",
   "execution_count": 11,
   "id": "dd90ce7e",
   "metadata": {},
   "outputs": [],
   "source": [
    "p2 = person()"
   ]
  },
  {
   "cell_type": "code",
   "execution_count": 12,
   "id": "fd142a0c",
   "metadata": {},
   "outputs": [
    {
     "data": {
      "text/plain": [
       "40"
      ]
     },
     "execution_count": 12,
     "metadata": {},
     "output_type": "execute_result"
    }
   ],
   "source": [
    "p1.age"
   ]
  },
  {
   "cell_type": "code",
   "execution_count": 13,
   "id": "f8eb48ee",
   "metadata": {},
   "outputs": [
    {
     "data": {
      "text/plain": [
       "40"
      ]
     },
     "execution_count": 13,
     "metadata": {},
     "output_type": "execute_result"
    }
   ],
   "source": [
    "p2.age"
   ]
  },
  {
   "cell_type": "code",
   "execution_count": 14,
   "id": "5f7c8f46",
   "metadata": {},
   "outputs": [],
   "source": [
    "# Object attribute"
   ]
  },
  {
   "cell_type": "code",
   "execution_count": 26,
   "id": "a6a4c104",
   "metadata": {},
   "outputs": [],
   "source": [
    "class flex:\n",
    "    raw_matrial = \"plastic\" #class attribute\n",
    "    \n",
    "    def __init__(self,colour):# object ko attribute initializer\n",
    "        self.colour = colour #object attribute"
   ]
  },
  {
   "cell_type": "code",
   "execution_count": 27,
   "id": "d87548ed",
   "metadata": {},
   "outputs": [],
   "source": [
    "redflex = flex(\"red\")"
   ]
  },
  {
   "cell_type": "code",
   "execution_count": 28,
   "id": "fd38cb2c",
   "metadata": {},
   "outputs": [
    {
     "data": {
      "text/plain": [
       "'plastic'"
      ]
     },
     "execution_count": 28,
     "metadata": {},
     "output_type": "execute_result"
    }
   ],
   "source": [
    "redflex.raw_matrial"
   ]
  },
  {
   "cell_type": "code",
   "execution_count": 29,
   "id": "4f567355",
   "metadata": {},
   "outputs": [
    {
     "data": {
      "text/plain": [
       "'red'"
      ]
     },
     "execution_count": 29,
     "metadata": {},
     "output_type": "execute_result"
    }
   ],
   "source": [
    "redflex.colour"
   ]
  },
  {
   "cell_type": "code",
   "execution_count": 36,
   "id": "74f41edd",
   "metadata": {},
   "outputs": [],
   "source": [
    "class flex:\n",
    "    raw_matrial = \"plastic\" #class attribute\n",
    "    \n",
    "    def __init__(self,colour):# object ko attribute initializer\n",
    "        self.colour = colour #object attribute\n",
    "        \n",
    "    def display_colour(self):# user defined method of a class\n",
    "        print(self.colour)"
   ]
  },
  {
   "cell_type": "code",
   "execution_count": 37,
   "id": "0be44368",
   "metadata": {},
   "outputs": [],
   "source": [
    "white = flex('white')"
   ]
  },
  {
   "cell_type": "code",
   "execution_count": 38,
   "id": "eaa950cd",
   "metadata": {},
   "outputs": [
    {
     "name": "stdout",
     "output_type": "stream",
     "text": [
      "white\n"
     ]
    }
   ],
   "source": [
    "white.display_colour()"
   ]
  },
  {
   "cell_type": "code",
   "execution_count": 39,
   "id": "400305e8",
   "metadata": {},
   "outputs": [
    {
     "data": {
      "text/plain": [
       "'white'"
      ]
     },
     "execution_count": 39,
     "metadata": {},
     "output_type": "execute_result"
    }
   ],
   "source": [
    "white.colour"
   ]
  },
  {
   "cell_type": "code",
   "execution_count": 40,
   "id": "f5ebfd51",
   "metadata": {},
   "outputs": [
    {
     "data": {
      "text/plain": [
       "'plastic'"
      ]
     },
     "execution_count": 40,
     "metadata": {},
     "output_type": "execute_result"
    }
   ],
   "source": [
    "white.raw_matrial"
   ]
  },
  {
   "cell_type": "code",
   "execution_count": null,
   "id": "2c560efa",
   "metadata": {},
   "outputs": [],
   "source": []
  }
 ],
 "metadata": {
  "kernelspec": {
   "display_name": "Python 3 (ipykernel)",
   "language": "python",
   "name": "python3"
  },
  "language_info": {
   "codemirror_mode": {
    "name": "ipython",
    "version": 3
   },
   "file_extension": ".py",
   "mimetype": "text/x-python",
   "name": "python",
   "nbconvert_exporter": "python",
   "pygments_lexer": "ipython3",
   "version": "3.8.10"
  }
 },
 "nbformat": 4,
 "nbformat_minor": 5
}
