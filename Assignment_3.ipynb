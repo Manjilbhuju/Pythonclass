{
 "cells": [
  {
   "cell_type": "markdown",
   "id": "c16572d6",
   "metadata": {},
   "source": [
    "# WAP to count vowel and consonant on the given string"
   ]
  },
  {
   "cell_type": "code",
   "execution_count": 4,
   "id": "13ed0a57",
   "metadata": {},
   "outputs": [],
   "source": [
    "s = \"Hello\""
   ]
  },
  {
   "cell_type": "code",
   "execution_count": 5,
   "id": "12cd721b",
   "metadata": {},
   "outputs": [
    {
     "name": "stdout",
     "output_type": "stream",
     "text": [
      "the H is consonant\n",
      "the e is vowels\n",
      "the l is consonant\n",
      "the l is consonant\n",
      "the o is vowels\n"
     ]
    }
   ],
   "source": [
    "start = 0\n",
    "stop = len(s)\n",
    "step = 1\n",
    "for index in range(start, stop, step):\n",
    "    letter = s[index]\n",
    "    if letter=='a' or letter=='e' or letter=='i' or letter=='o' or letter=='u':\n",
    "        print(\"the {} is vowels\".format(letter,))\n",
    "    else:\n",
    "        print(\"the {} is consonant\".format(letter,))"
   ]
  },
  {
   "cell_type": "code",
   "execution_count": 13,
   "id": "7775d413",
   "metadata": {},
   "outputs": [
    {
     "name": "stdout",
     "output_type": "stream",
     "text": [
      "0\n",
      "is the number of consonant H\n",
      "1\n",
      "is the number of vowels e\n",
      "2\n",
      "is the number of consonant l\n",
      "3\n",
      "is the number of consonant l\n",
      "4\n",
      "is the number of vowels o\n"
     ]
    }
   ],
   "source": [
    "s = \"Hello\"\n",
    "start = 0\n",
    "stop = len(s)\n",
    "step = 1\n",
    "for index in range(start, stop, step):\n",
    "    print(index)\n",
    "    number = s[index]\n",
    "    if number == 'a' or number == 'e' or number == 'i' or number == 'o' or number == 'u':\n",
    "        print(\"is the number of vowels {}\".format(number))\n",
    "    else:\n",
    "        print(\"is the number of consonant {}\".format(number))"
   ]
  },
  {
   "cell_type": "code",
   "execution_count": 6,
   "id": "62c867d0",
   "metadata": {},
   "outputs": [],
   "source": [
    "s = \"Hello\"\n",
    "vowel = 0\n",
    "consonant = 0\n",
    "for index in range(0, len(s), 1):\n",
    "    letter = s[index]\n",
    "    if letter=='a' or letter=='e' or letter=='i' or letter=='o' or letter=='u':\n",
    "        vowel = vowel + 1\n",
    "    else:\n",
    "        consonant = consonant + 1"
   ]
  },
  {
   "cell_type": "code",
   "execution_count": 9,
   "id": "123a7d13",
   "metadata": {},
   "outputs": [
    {
     "name": "stdout",
     "output_type": "stream",
     "text": [
      " vowel count 2\n",
      "consonant count 3\n"
     ]
    }
   ],
   "source": [
    "print(\" vowel count {}\".format(vowel))\n",
    "print(\"consonant count {}\".format(consonant))"
   ]
  },
  {
   "cell_type": "code",
   "execution_count": 8,
   "id": "31c93b47",
   "metadata": {},
   "outputs": [
    {
     "data": {
      "text/plain": [
       "3"
      ]
     },
     "execution_count": 8,
     "metadata": {},
     "output_type": "execute_result"
    }
   ],
   "source": []
  },
  {
   "cell_type": "code",
   "execution_count": null,
   "id": "c7c52da9",
   "metadata": {},
   "outputs": [],
   "source": []
  }
 ],
 "metadata": {
  "kernelspec": {
   "display_name": "Python 3 (ipykernel)",
   "language": "python",
   "name": "python3"
  },
  "language_info": {
   "codemirror_mode": {
    "name": "ipython",
    "version": 3
   },
   "file_extension": ".py",
   "mimetype": "text/x-python",
   "name": "python",
   "nbconvert_exporter": "python",
   "pygments_lexer": "ipython3",
   "version": "3.8.10"
  }
 },
 "nbformat": 4,
 "nbformat_minor": 5
}
