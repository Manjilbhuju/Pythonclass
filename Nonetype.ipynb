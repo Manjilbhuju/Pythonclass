{
 "cells": [
  {
   "cell_type": "code",
   "execution_count": 1,
   "id": "b65a14cd",
   "metadata": {},
   "outputs": [],
   "source": [
    "x = None"
   ]
  },
  {
   "cell_type": "code",
   "execution_count": 3,
   "id": "7c2c7ba7",
   "metadata": {},
   "outputs": [],
   "source": [
    "x"
   ]
  },
  {
   "cell_type": "code",
   "execution_count": 4,
   "id": "317b1acd",
   "metadata": {},
   "outputs": [
    {
     "data": {
      "text/plain": [
       "NoneType"
      ]
     },
     "execution_count": 4,
     "metadata": {},
     "output_type": "execute_result"
    }
   ],
   "source": [
    "type(x)"
   ]
  },
  {
   "cell_type": "code",
   "execution_count": 5,
   "id": "07c3a9a6",
   "metadata": {},
   "outputs": [
    {
     "name": "stdout",
     "output_type": "stream",
     "text": [
      "x is not true\n"
     ]
    }
   ],
   "source": [
    "if x:\n",
    "    print(\"x is true\")\n",
    "else:\n",
    "    print(\"x is not true\")"
   ]
  },
  {
   "cell_type": "code",
   "execution_count": 7,
   "id": "a7583443",
   "metadata": {},
   "outputs": [
    {
     "name": "stdout",
     "output_type": "stream",
     "text": [
      "x is none\n"
     ]
    }
   ],
   "source": [
    "if x:\n",
    "    print(\"x is true\")\n",
    "elif x == False:\n",
    "    print(\"x is false\")\n",
    "else:\n",
    "    print(\"x is none\")"
   ]
  },
  {
   "cell_type": "code",
   "execution_count": 8,
   "id": "a97c05bc",
   "metadata": {},
   "outputs": [],
   "source": [
    "x = None"
   ]
  },
  {
   "cell_type": "code",
   "execution_count": 14,
   "id": "63d4f61f",
   "metadata": {},
   "outputs": [
    {
     "data": {
      "text/plain": [
       "True"
      ]
     },
     "execution_count": 14,
     "metadata": {},
     "output_type": "execute_result"
    }
   ],
   "source": [
    "x is None # is and is not is Identity operator"
   ]
  },
  {
   "cell_type": "code",
   "execution_count": 11,
   "id": "c9282e1d",
   "metadata": {},
   "outputs": [
    {
     "data": {
      "text/plain": [
       "True"
      ]
     },
     "execution_count": 11,
     "metadata": {},
     "output_type": "execute_result"
    }
   ],
   "source": [
    "x is not float"
   ]
  },
  {
   "cell_type": "code",
   "execution_count": 12,
   "id": "19debef7",
   "metadata": {},
   "outputs": [
    {
     "data": {
      "text/plain": [
       "True"
      ]
     },
     "execution_count": 12,
     "metadata": {},
     "output_type": "execute_result"
    }
   ],
   "source": [
    "x is not int"
   ]
  },
  {
   "cell_type": "code",
   "execution_count": 13,
   "id": "66fd85ec",
   "metadata": {},
   "outputs": [
    {
     "data": {
      "text/plain": [
       "False"
      ]
     },
     "execution_count": 13,
     "metadata": {},
     "output_type": "execute_result"
    }
   ],
   "source": [
    "x is not None"
   ]
  },
  {
   "cell_type": "code",
   "execution_count": 15,
   "id": "e13be1c3",
   "metadata": {},
   "outputs": [
    {
     "name": "stdout",
     "output_type": "stream",
     "text": [
      "x is none\n"
     ]
    }
   ],
   "source": [
    "if x == None: # avoid\n",
    "    print(\"x is none\")"
   ]
  },
  {
   "cell_type": "code",
   "execution_count": 17,
   "id": "a384449f",
   "metadata": {},
   "outputs": [
    {
     "name": "stdout",
     "output_type": "stream",
     "text": [
      "x is none\n"
     ]
    }
   ],
   "source": [
    "if x == None: # correct method\n",
    "    print(\"x is none\")"
   ]
  },
  {
   "cell_type": "code",
   "execution_count": 18,
   "id": "4d407f80",
   "metadata": {},
   "outputs": [
    {
     "name": "stderr",
     "output_type": "stream",
     "text": [
      "<>:1: SyntaxWarning: \"is\" with a literal. Did you mean \"==\"?\n",
      "<>:1: SyntaxWarning: \"is\" with a literal. Did you mean \"==\"?\n",
      "C:\\Users\\User\\AppData\\Local\\Temp\\ipykernel_14196\\2037910664.py:1: SyntaxWarning: \"is\" with a literal. Did you mean \"==\"?\n",
      "  20 is 20\n"
     ]
    },
    {
     "data": {
      "text/plain": [
       "True"
      ]
     },
     "execution_count": 18,
     "metadata": {},
     "output_type": "execute_result"
    }
   ],
   "source": [
    "20 is 20"
   ]
  },
  {
   "cell_type": "code",
   "execution_count": 19,
   "id": "8718f073",
   "metadata": {},
   "outputs": [
    {
     "name": "stderr",
     "output_type": "stream",
     "text": [
      "<>:1: SyntaxWarning: \"is\" with a literal. Did you mean \"==\"?\n",
      "<>:1: SyntaxWarning: \"is\" with a literal. Did you mean \"==\"?\n",
      "C:\\Users\\User\\AppData\\Local\\Temp\\ipykernel_14196\\3095483747.py:1: SyntaxWarning: \"is\" with a literal. Did you mean \"==\"?\n",
      "  \"s\" is \"s\"\n"
     ]
    },
    {
     "data": {
      "text/plain": [
       "True"
      ]
     },
     "execution_count": 19,
     "metadata": {},
     "output_type": "execute_result"
    }
   ],
   "source": [
    "\"s\" is \"s\""
   ]
  },
  {
   "cell_type": "code",
   "execution_count": null,
   "id": "ac9d4d8e",
   "metadata": {},
   "outputs": [],
   "source": []
  }
 ],
 "metadata": {
  "kernelspec": {
   "display_name": "Python 3 (ipykernel)",
   "language": "python",
   "name": "python3"
  },
  "language_info": {
   "codemirror_mode": {
    "name": "ipython",
    "version": 3
   },
   "file_extension": ".py",
   "mimetype": "text/x-python",
   "name": "python",
   "nbconvert_exporter": "python",
   "pygments_lexer": "ipython3",
   "version": "3.8.10"
  }
 },
 "nbformat": 4,
 "nbformat_minor": 5
}
