{
 "cells": [
  {
   "cell_type": "markdown",
   "id": "b6786f02",
   "metadata": {},
   "source": [
    "# indexing"
   ]
  },
  {
   "cell_type": "code",
   "execution_count": 1,
   "id": "7520c92d",
   "metadata": {},
   "outputs": [],
   "source": [
    "txt = \"Hello world\""
   ]
  },
  {
   "cell_type": "code",
   "execution_count": 4,
   "id": "2f8992ed",
   "metadata": {},
   "outputs": [
    {
     "data": {
      "text/plain": [
       "'d'"
      ]
     },
     "execution_count": 4,
     "metadata": {},
     "output_type": "execute_result"
    }
   ],
   "source": [
    "txt[10]"
   ]
  },
  {
   "cell_type": "code",
   "execution_count": 5,
   "id": "b20f9b49",
   "metadata": {},
   "outputs": [
    {
     "ename": "IndexError",
     "evalue": "string index out of range",
     "output_type": "error",
     "traceback": [
      "\u001b[1;31m---------------------------------------------------------------------------\u001b[0m",
      "\u001b[1;31mIndexError\u001b[0m                                Traceback (most recent call last)",
      "Input \u001b[1;32mIn [5]\u001b[0m, in \u001b[0;36m<cell line: 1>\u001b[1;34m()\u001b[0m\n\u001b[1;32m----> 1\u001b[0m \u001b[43mtxt\u001b[49m\u001b[43m[\u001b[49m\u001b[38;5;241;43m11\u001b[39;49m\u001b[43m]\u001b[49m\n",
      "\u001b[1;31mIndexError\u001b[0m: string index out of range"
     ]
    }
   ],
   "source": [
    "txt[11]"
   ]
  },
  {
   "cell_type": "markdown",
   "id": "8e24ff90",
   "metadata": {},
   "source": [
    "# Slicing in Python\n"
   ]
  },
  {
   "cell_type": "code",
   "execution_count": 6,
   "id": "4b397e7c",
   "metadata": {},
   "outputs": [],
   "source": [
    "txt = \"Hello world\""
   ]
  },
  {
   "cell_type": "code",
   "execution_count": 9,
   "id": "7aed8290",
   "metadata": {},
   "outputs": [
    {
     "data": {
      "text/plain": [
       "'Hello'"
      ]
     },
     "execution_count": 9,
     "metadata": {},
     "output_type": "execute_result"
    }
   ],
   "source": [
    "txt[0:5]"
   ]
  },
  {
   "cell_type": "code",
   "execution_count": 10,
   "id": "4783c689",
   "metadata": {},
   "outputs": [
    {
     "data": {
      "text/plain": [
       "'Hello'"
      ]
     },
     "execution_count": 10,
     "metadata": {},
     "output_type": "execute_result"
    }
   ],
   "source": [
    "txt[:5]"
   ]
  },
  {
   "cell_type": "code",
   "execution_count": 11,
   "id": "51ac5254",
   "metadata": {},
   "outputs": [
    {
     "data": {
      "text/plain": [
       "'world'"
      ]
     },
     "execution_count": 11,
     "metadata": {},
     "output_type": "execute_result"
    }
   ],
   "source": [
    "txt[6:11]"
   ]
  },
  {
   "cell_type": "code",
   "execution_count": 17,
   "id": "02cb1eaa",
   "metadata": {},
   "outputs": [],
   "source": [
    "txt = 'hi'"
   ]
  },
  {
   "cell_type": "code",
   "execution_count": null,
   "id": "170b89ff",
   "metadata": {},
   "outputs": [],
   "source": []
  },
  {
   "cell_type": "code",
   "execution_count": 19,
   "id": "70386a58",
   "metadata": {},
   "outputs": [
    {
     "data": {
      "text/plain": [
       "'hi good morning'"
      ]
     },
     "execution_count": 19,
     "metadata": {},
     "output_type": "execute_result"
    }
   ],
   "source": [
    "txt + ' good morning' # concat"
   ]
  },
  {
   "cell_type": "markdown",
   "id": "d0042091",
   "metadata": {},
   "source": [
    "# string operatoion in python"
   ]
  },
  {
   "cell_type": "code",
   "execution_count": 22,
   "id": "a4a68c95",
   "metadata": {},
   "outputs": [],
   "source": [
    "name = \"m@njil\""
   ]
  },
  {
   "cell_type": "code",
   "execution_count": 23,
   "id": "df57b616",
   "metadata": {},
   "outputs": [
    {
     "data": {
      "text/plain": [
       "'m@njil'"
      ]
     },
     "execution_count": 23,
     "metadata": {},
     "output_type": "execute_result"
    }
   ],
   "source": [
    "name"
   ]
  },
  {
   "cell_type": "code",
   "execution_count": 24,
   "id": "f830c7aa",
   "metadata": {},
   "outputs": [
    {
     "data": {
      "text/plain": [
       "'@'"
      ]
     },
     "execution_count": 24,
     "metadata": {},
     "output_type": "execute_result"
    }
   ],
   "source": [
    "name[1]"
   ]
  },
  {
   "cell_type": "code",
   "execution_count": 25,
   "id": "feb0750a",
   "metadata": {},
   "outputs": [
    {
     "ename": "TypeError",
     "evalue": "'str' object does not support item assignment",
     "output_type": "error",
     "traceback": [
      "\u001b[1;31m---------------------------------------------------------------------------\u001b[0m",
      "\u001b[1;31mTypeError\u001b[0m                                 Traceback (most recent call last)",
      "Input \u001b[1;32mIn [25]\u001b[0m, in \u001b[0;36m<cell line: 1>\u001b[1;34m()\u001b[0m\n\u001b[1;32m----> 1\u001b[0m \u001b[43mname\u001b[49m\u001b[43m[\u001b[49m\u001b[38;5;241;43m1\u001b[39;49m\u001b[43m]\u001b[49m\u001b[38;5;241m=\u001b[39m\u001b[38;5;124m\"\u001b[39m\u001b[38;5;124ma\u001b[39m\u001b[38;5;124m\"\u001b[39m\n",
      "\u001b[1;31mTypeError\u001b[0m: 'str' object does not support item assignment"
     ]
    }
   ],
   "source": [
    "name[1]=\"a\""
   ]
  },
  {
   "cell_type": "code",
   "execution_count": 28,
   "id": "646d7949",
   "metadata": {},
   "outputs": [
    {
     "data": {
      "text/plain": [
       "'manjil'"
      ]
     },
     "execution_count": 28,
     "metadata": {},
     "output_type": "execute_result"
    }
   ],
   "source": [
    "name.replace(\"@\", \"a\")"
   ]
  },
  {
   "cell_type": "code",
   "execution_count": 29,
   "id": "ef2fb88a",
   "metadata": {},
   "outputs": [
    {
     "data": {
      "text/plain": [
       "'m@njil'"
      ]
     },
     "execution_count": 29,
     "metadata": {},
     "output_type": "execute_result"
    }
   ],
   "source": [
    "name"
   ]
  },
  {
   "cell_type": "code",
   "execution_count": 37,
   "id": "8b664202",
   "metadata": {},
   "outputs": [
    {
     "data": {
      "text/plain": [
       "'Brilliant New Year'"
      ]
     },
     "execution_count": 37,
     "metadata": {},
     "output_type": "execute_result"
    }
   ],
   "source": [
    "'Happy New Year'.replace('Happy', 'Brilliant')"
   ]
  },
  {
   "cell_type": "code",
   "execution_count": 44,
   "id": "aafceba9",
   "metadata": {},
   "outputs": [],
   "source": [
    "txt = \"Rs.100\""
   ]
  },
  {
   "cell_type": "code",
   "execution_count": 46,
   "id": "1f6a35a5",
   "metadata": {},
   "outputs": [
    {
     "data": {
      "text/plain": [
       "'100'"
      ]
     },
     "execution_count": 46,
     "metadata": {},
     "output_type": "execute_result"
    }
   ],
   "source": [
    "txt.replace(\"Rs.\", \"\")"
   ]
  },
  {
   "cell_type": "code",
   "execution_count": null,
   "id": "c9e9995f",
   "metadata": {},
   "outputs": [],
   "source": []
  }
 ],
 "metadata": {
  "kernelspec": {
   "display_name": "Python 3 (ipykernel)",
   "language": "python",
   "name": "python3"
  },
  "language_info": {
   "codemirror_mode": {
    "name": "ipython",
    "version": 3
   },
   "file_extension": ".py",
   "mimetype": "text/x-python",
   "name": "python",
   "nbconvert_exporter": "python",
   "pygments_lexer": "ipython3",
   "version": "3.8.10"
  }
 },
 "nbformat": 4,
 "nbformat_minor": 5
}
