{
 "cells": [
  {
   "cell_type": "code",
   "execution_count": 1,
   "id": "6185ded3",
   "metadata": {},
   "outputs": [
    {
     "ename": "SyntaxError",
     "evalue": "cannot assign to False (409997291.py, line 1)",
     "output_type": "error",
     "traceback": [
      "\u001b[1;36m  Input \u001b[1;32mIn [1]\u001b[1;36m\u001b[0m\n\u001b[1;33m    False=20\u001b[0m\n\u001b[1;37m    ^\u001b[0m\n\u001b[1;31mSyntaxError\u001b[0m\u001b[1;31m:\u001b[0m cannot assign to False\n"
     ]
    }
   ],
   "source": [
    "False=20"
   ]
  },
  {
   "cell_type": "code",
   "execution_count": 3,
   "id": "9a5524b2",
   "metadata": {},
   "outputs": [],
   "source": [
    "false=20"
   ]
  },
  {
   "cell_type": "code",
   "execution_count": 6,
   "id": "518f0856",
   "metadata": {},
   "outputs": [
    {
     "ename": "SyntaxError",
     "evalue": "cannot assign to None (3045277586.py, line 1)",
     "output_type": "error",
     "traceback": [
      "\u001b[1;36m  Input \u001b[1;32mIn [6]\u001b[1;36m\u001b[0m\n\u001b[1;33m    None='hi'\u001b[0m\n\u001b[1;37m    ^\u001b[0m\n\u001b[1;31mSyntaxError\u001b[0m\u001b[1;31m:\u001b[0m cannot assign to None\n"
     ]
    }
   ],
   "source": [
    "None='hi'"
   ]
  },
  {
   "cell_type": "code",
   "execution_count": 7,
   "id": "f04cb91a",
   "metadata": {},
   "outputs": [
    {
     "ename": "SyntaxError",
     "evalue": "invalid syntax (3705541658.py, line 1)",
     "output_type": "error",
     "traceback": [
      "\u001b[1;36m  Input \u001b[1;32mIn [7]\u001b[1;36m\u001b[0m\n\u001b[1;33m    1num =8\u001b[0m\n\u001b[1;37m     ^\u001b[0m\n\u001b[1;31mSyntaxError\u001b[0m\u001b[1;31m:\u001b[0m invalid syntax\n"
     ]
    }
   ],
   "source": [
    "1num =8"
   ]
  },
  {
   "cell_type": "code",
   "execution_count": 9,
   "id": "da17d2ef",
   "metadata": {},
   "outputs": [],
   "source": [
    "num1=8"
   ]
  },
  {
   "cell_type": "code",
   "execution_count": 10,
   "id": "d72f574d",
   "metadata": {},
   "outputs": [
    {
     "ename": "NameError",
     "evalue": "name 'print_this_to_screen' is not defined",
     "output_type": "error",
     "traceback": [
      "\u001b[1;31m---------------------------------------------------------------------------\u001b[0m",
      "\u001b[1;31mNameError\u001b[0m                                 Traceback (most recent call last)",
      "Input \u001b[1;32mIn [10]\u001b[0m, in \u001b[0;36m<cell line: 1>\u001b[1;34m()\u001b[0m\n\u001b[1;32m----> 1\u001b[0m \u001b[43mprint_this_to_screen\u001b[49m\n",
      "\u001b[1;31mNameError\u001b[0m: name 'print_this_to_screen' is not defined"
     ]
    }
   ],
   "source": [
    "print_this_to_screen"
   ]
  },
  {
   "cell_type": "code",
   "execution_count": 11,
   "id": "16b98e9b",
   "metadata": {},
   "outputs": [],
   "source": [
    "a=60\n",
    "A=2.9889"
   ]
  },
  {
   "cell_type": "code",
   "execution_count": 12,
   "id": "3a5bc43d",
   "metadata": {},
   "outputs": [
    {
     "name": "stdout",
     "output_type": "stream",
     "text": [
      "60\n"
     ]
    }
   ],
   "source": [
    "print(a)"
   ]
  },
  {
   "cell_type": "code",
   "execution_count": 13,
   "id": "35fbeeb5",
   "metadata": {},
   "outputs": [
    {
     "ename": "SyntaxError",
     "evalue": "unexpected EOF while parsing (1279947619.py, line 1)",
     "output_type": "error",
     "traceback": [
      "\u001b[1;36m  Input \u001b[1;32mIn [13]\u001b[1;36m\u001b[0m\n\u001b[1;33m    print('this is lowercase a value{}'.format(a)\u001b[0m\n\u001b[1;37m                                                 ^\u001b[0m\n\u001b[1;31mSyntaxError\u001b[0m\u001b[1;31m:\u001b[0m unexpected EOF while parsing\n"
     ]
    }
   ],
   "source": [
    "print('this is lowercase a value{}'.format(a)"
   ]
  },
  {
   "cell_type": "code",
   "execution_count": 15,
   "id": "a7f9d472",
   "metadata": {},
   "outputs": [
    {
     "name": "stdout",
     "output_type": "stream",
     "text": [
      "This is a lowercase a value 60\n"
     ]
    }
   ],
   "source": [
    "print (\"This is a lowercase a value {}\".format(a))"
   ]
  },
  {
   "cell_type": "code",
   "execution_count": 17,
   "id": "74d0b08f",
   "metadata": {},
   "outputs": [
    {
     "name": "stdout",
     "output_type": "stream",
     "text": [
      "This a uppercase A value 2.9889\n"
     ]
    }
   ],
   "source": [
    "print (\"This a uppercase A value {}\".format(A))"
   ]
  },
  {
   "cell_type": "code",
   "execution_count": 19,
   "id": "2867e69d",
   "metadata": {},
   "outputs": [
    {
     "name": "stdout",
     "output_type": "stream",
     "text": [
      "20\n",
      "30\n"
     ]
    }
   ],
   "source": [
    "a=20\n",
    "print(a)\n",
    "\n",
    "a=30\n",
    "print(a)"
   ]
  },
  {
   "cell_type": "code",
   "execution_count": 21,
   "id": "4e31ea57",
   "metadata": {},
   "outputs": [
    {
     "name": "stdout",
     "output_type": "stream",
     "text": [
      "29\n",
      "35\n"
     ]
    }
   ],
   "source": [
    "x=29\n",
    "print(x)\n",
    "x=x+6\n",
    "print(x)"
   ]
  },
  {
   "cell_type": "code",
   "execution_count": 22,
   "id": "7082a493",
   "metadata": {},
   "outputs": [],
   "source": [
    "a=2\n",
    "b=4"
   ]
  },
  {
   "cell_type": "code",
   "execution_count": 23,
   "id": "079995f7",
   "metadata": {},
   "outputs": [],
   "source": [
    "a,b=2,4"
   ]
  },
  {
   "cell_type": "code",
   "execution_count": 24,
   "id": "0bbe8f35",
   "metadata": {},
   "outputs": [
    {
     "name": "stdout",
     "output_type": "stream",
     "text": [
      "2 4\n"
     ]
    }
   ],
   "source": [
    "print(a,b)"
   ]
  },
  {
   "cell_type": "code",
   "execution_count": 25,
   "id": "30f5cd31",
   "metadata": {},
   "outputs": [
    {
     "name": "stdout",
     "output_type": "stream",
     "text": [
      "4\n"
     ]
    }
   ],
   "source": [
    "print(b)"
   ]
  },
  {
   "cell_type": "code",
   "execution_count": 29,
   "id": "48364b51",
   "metadata": {},
   "outputs": [],
   "source": [
    "a, b, c= 2, 4, 6+0.5j"
   ]
  },
  {
   "cell_type": "code",
   "execution_count": 33,
   "id": "bb16f14e",
   "metadata": {},
   "outputs": [],
   "source": [
    "num1=2.5\n",
    "num2=0.36"
   ]
  },
  {
   "cell_type": "markdown",
   "id": "29d97e65",
   "metadata": {},
   "source": [
    "# WAP to swap two variable values"
   ]
  },
  {
   "cell_type": "code",
   "execution_count": 34,
   "id": "efb4fe5d",
   "metadata": {},
   "outputs": [],
   "source": [
    "tmp=num1\n",
    "num1=num2\n",
    "num2=tmp"
   ]
  },
  {
   "cell_type": "code",
   "execution_count": 35,
   "id": "fd347e03",
   "metadata": {},
   "outputs": [
    {
     "name": "stdout",
     "output_type": "stream",
     "text": [
      "0.36\n"
     ]
    }
   ],
   "source": [
    "print(num1)"
   ]
  },
  {
   "cell_type": "code",
   "execution_count": 36,
   "id": "78d47f00",
   "metadata": {},
   "outputs": [
    {
     "data": {
      "text/plain": [
       "2.5"
      ]
     },
     "execution_count": 36,
     "metadata": {},
     "output_type": "execute_result"
    }
   ],
   "source": [
    "num2"
   ]
  },
  {
   "cell_type": "code",
   "execution_count": 38,
   "id": "17d223b4",
   "metadata": {},
   "outputs": [],
   "source": [
    "num1,num2=num2,num1"
   ]
  },
  {
   "cell_type": "code",
   "execution_count": 39,
   "id": "48036f7b",
   "metadata": {},
   "outputs": [
    {
     "data": {
      "text/plain": [
       "60"
      ]
     },
     "execution_count": 39,
     "metadata": {},
     "output_type": "execute_result"
    }
   ],
   "source": [
    "num1"
   ]
  },
  {
   "cell_type": "code",
   "execution_count": 40,
   "id": "b7a875cc",
   "metadata": {},
   "outputs": [
    {
     "name": "stdout",
     "output_type": "stream",
     "text": [
      "60\n"
     ]
    }
   ],
   "source": [
    "print(num1)"
   ]
  },
  {
   "cell_type": "code",
   "execution_count": 41,
   "id": "300cbe75",
   "metadata": {},
   "outputs": [],
   "source": [
    "num1=2\n",
    "num2=4"
   ]
  },
  {
   "cell_type": "code",
   "execution_count": 42,
   "id": "955697b1",
   "metadata": {},
   "outputs": [],
   "source": [
    "num1,num2=num2,num1"
   ]
  },
  {
   "cell_type": "code",
   "execution_count": 43,
   "id": "9e198711",
   "metadata": {},
   "outputs": [
    {
     "data": {
      "text/plain": [
       "4"
      ]
     },
     "execution_count": 43,
     "metadata": {},
     "output_type": "execute_result"
    }
   ],
   "source": [
    "num1"
   ]
  },
  {
   "cell_type": "code",
   "execution_count": null,
   "id": "30ac89a5",
   "metadata": {},
   "outputs": [],
   "source": []
  }
 ],
 "metadata": {
  "kernelspec": {
   "display_name": "Python 3 (ipykernel)",
   "language": "python",
   "name": "python3"
  },
  "language_info": {
   "codemirror_mode": {
    "name": "ipython",
    "version": 3
   },
   "file_extension": ".py",
   "mimetype": "text/x-python",
   "name": "python",
   "nbconvert_exporter": "python",
   "pygments_lexer": "ipython3",
   "version": "3.8.10"
  }
 },
 "nbformat": 4,
 "nbformat_minor": 5
}
