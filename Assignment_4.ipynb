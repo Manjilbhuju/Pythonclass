{
 "cells": [
  {
   "cell_type": "markdown",
   "id": "27ad65d0",
   "metadata": {},
   "source": [
    "# Using string method manipulation technique extract fruit names from txt"
   ]
  },
  {
   "cell_type": "code",
   "execution_count": 12,
   "id": "0876786b",
   "metadata": {},
   "outputs": [],
   "source": [
    "txt = \"I Like Orange Apple Banana and Kiwi.\""
   ]
  },
  {
   "cell_type": "code",
   "execution_count": 13,
   "id": "1061c03e",
   "metadata": {},
   "outputs": [],
   "source": [
    "txt = txt.lower()"
   ]
  },
  {
   "cell_type": "code",
   "execution_count": 14,
   "id": "bb759629",
   "metadata": {},
   "outputs": [
    {
     "data": {
      "text/plain": [
       "['orange', 'apple', 'banana', 'kiwi']"
      ]
     },
     "execution_count": 14,
     "metadata": {},
     "output_type": "execute_result"
    }
   ],
   "source": [
    "txt[7:26].split() + txt[31:35].split()"
   ]
  },
  {
   "cell_type": "markdown",
   "id": "c8397ee3",
   "metadata": {},
   "source": [
    "# Suppose we have two strings. Write a program to check if string2 is the rotation of string1 or not."
   ]
  },
  {
   "cell_type": "code",
   "execution_count": 3,
   "id": "34bd1c44",
   "metadata": {},
   "outputs": [],
   "source": [
    "string1 = \"NEPALINDIACHINA\""
   ]
  },
  {
   "cell_type": "code",
   "execution_count": 4,
   "id": "894a1d35",
   "metadata": {},
   "outputs": [],
   "source": [
    "string1 = string1.lower()"
   ]
  },
  {
   "cell_type": "code",
   "execution_count": null,
   "id": "4740d876",
   "metadata": {},
   "outputs": [],
   "source": []
  },
  {
   "cell_type": "code",
   "execution_count": 6,
   "id": "da2cdd5a",
   "metadata": {},
   "outputs": [
    {
     "name": "stdout",
     "output_type": "stream",
     "text": [
      "the index is 0 and letter is n\n",
      "the index is 1 and letter is e\n",
      "the index is 2 and letter is p\n",
      "the index is 3 and letter is a\n",
      "the index is 4 and letter is l\n",
      "the index is 5 and letter is i\n",
      "the index is 6 and letter is n\n",
      "the index is 7 and letter is d\n",
      "the index is 8 and letter is i\n",
      "the index is 9 and letter is a\n",
      "the index is 10 and letter is c\n",
      "the index is 11 and letter is h\n",
      "the index is 12 and letter is i\n",
      "the index is 13 and letter is n\n",
      "the index is 14 and letter is a\n"
     ]
    }
   ],
   "source": [
    "for index in range(0, len(string1),1):\n",
    "    letter = string1[index]\n",
    "    print(\"the index is {} and letter is {}\".format(index, letter))"
   ]
  },
  {
   "cell_type": "code",
   "execution_count": 7,
   "id": "1e3234a1",
   "metadata": {},
   "outputs": [],
   "source": [
    "string2 = string1[5:15]+string1[0:5]"
   ]
  },
  {
   "cell_type": "code",
   "execution_count": 8,
   "id": "c8c62949",
   "metadata": {},
   "outputs": [
    {
     "data": {
      "text/plain": [
       "True"
      ]
     },
     "execution_count": 8,
     "metadata": {},
     "output_type": "execute_result"
    }
   ],
   "source": [
    "len(string2) == len(string1)"
   ]
  },
  {
   "cell_type": "code",
   "execution_count": 9,
   "id": "c46de5a2",
   "metadata": {},
   "outputs": [
    {
     "data": {
      "text/plain": [
       "'indiachinanepal'"
      ]
     },
     "execution_count": 9,
     "metadata": {},
     "output_type": "execute_result"
    }
   ],
   "source": [
    "string2"
   ]
  },
  {
   "cell_type": "markdown",
   "id": "dba97a1f",
   "metadata": {},
   "source": [
    "# Only accept the item that are not apple from fruits list"
   ]
  },
  {
   "cell_type": "code",
   "execution_count": 73,
   "id": "9c545346",
   "metadata": {},
   "outputs": [],
   "source": [
    "fruits = ['apple', 'banana', 'apple', 'mango']"
   ]
  },
  {
   "cell_type": "code",
   "execution_count": 74,
   "id": "0183f949",
   "metadata": {},
   "outputs": [
    {
     "data": {
      "text/plain": [
       "['', 'banana', '', 'mango']"
      ]
     },
     "execution_count": 74,
     "metadata": {},
     "output_type": "execute_result"
    }
   ],
   "source": [
    "['' if item=='apple' else item for item in fruits]"
   ]
  },
  {
   "cell_type": "code",
   "execution_count": 80,
   "id": "a93c7bca",
   "metadata": {},
   "outputs": [
    {
     "data": {
      "text/plain": [
       "['banana', 'mango']"
      ]
     },
     "execution_count": 80,
     "metadata": {},
     "output_type": "execute_result"
    }
   ],
   "source": [
    "fruits = ['apple', 'banana', 'apple', 'mango']\n",
    "fruits.remove('apple')\n",
    "fruits.remove('apple')\n",
    "fruits"
   ]
  },
  {
   "cell_type": "code",
   "execution_count": 87,
   "id": "b66b7c70",
   "metadata": {},
   "outputs": [
    {
     "data": {
      "text/plain": [
       "[None, None]"
      ]
     },
     "execution_count": 87,
     "metadata": {},
     "output_type": "execute_result"
    }
   ],
   "source": [
    "fruits = ['apple', 'banana', 'apple', 'mango']\n",
    "[fruits.remove('apple') if item == 'apple' else item for item in fruits]"
   ]
  },
  {
   "cell_type": "markdown",
   "id": "5c69e156",
   "metadata": {},
   "source": [
    "# Prime number"
   ]
  },
  {
   "cell_type": "code",
   "execution_count": 8,
   "id": "7b85c5b9",
   "metadata": {},
   "outputs": [],
   "source": [
    "def check_prime(number):\n",
    "    for num in range(2,number):\n",
    "        if number%num==0:\n",
    "            return False\n",
    "    return True"
   ]
  },
  {
   "cell_type": "code",
   "execution_count": 9,
   "id": "440c33f3",
   "metadata": {},
   "outputs": [
    {
     "data": {
      "text/plain": [
       "False"
      ]
     },
     "execution_count": 9,
     "metadata": {},
     "output_type": "execute_result"
    }
   ],
   "source": [
    "check_prime(10)"
   ]
  },
  {
   "cell_type": "code",
   "execution_count": 10,
   "id": "025a79cd",
   "metadata": {},
   "outputs": [
    {
     "data": {
      "text/plain": [
       "True"
      ]
     },
     "execution_count": 10,
     "metadata": {},
     "output_type": "execute_result"
    }
   ],
   "source": [
    "check_prime(7)"
   ]
  },
  {
   "cell_type": "code",
   "execution_count": 11,
   "id": "138a7b07",
   "metadata": {},
   "outputs": [
    {
     "data": {
      "text/plain": [
       "True"
      ]
     },
     "execution_count": 11,
     "metadata": {},
     "output_type": "execute_result"
    }
   ],
   "source": [
    "check_prime(3)"
   ]
  },
  {
   "cell_type": "code",
   "execution_count": 13,
   "id": "0026f28c",
   "metadata": {},
   "outputs": [
    {
     "data": {
      "text/plain": [
       "0"
      ]
     },
     "execution_count": 13,
     "metadata": {},
     "output_type": "execute_result"
    }
   ],
   "source": [
    "check_pr"
   ]
  },
  {
   "cell_type": "code",
   "execution_count": null,
   "id": "ba394d8c",
   "metadata": {},
   "outputs": [],
   "source": []
  }
 ],
 "metadata": {
  "kernelspec": {
   "display_name": "Python 3 (ipykernel)",
   "language": "python",
   "name": "python3"
  },
  "language_info": {
   "codemirror_mode": {
    "name": "ipython",
    "version": 3
   },
   "file_extension": ".py",
   "mimetype": "text/x-python",
   "name": "python",
   "nbconvert_exporter": "python",
   "pygments_lexer": "ipython3",
   "version": "3.8.10"
  }
 },
 "nbformat": 4,
 "nbformat_minor": 5
}
