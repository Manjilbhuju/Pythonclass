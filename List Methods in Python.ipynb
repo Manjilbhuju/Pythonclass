{
 "cells": [
  {
   "cell_type": "code",
   "execution_count": 1,
   "id": "bf026d77",
   "metadata": {},
   "outputs": [],
   "source": [
    "cars = ['bmw', 'tata', 'tesla', 'maruti']"
   ]
  },
  {
   "cell_type": "code",
   "execution_count": 4,
   "id": "3a272ebc",
   "metadata": {},
   "outputs": [],
   "source": [
    "cars.insert(1, 'audi') # inserts audi on cars list at index 1"
   ]
  },
  {
   "cell_type": "code",
   "execution_count": 5,
   "id": "45f02945",
   "metadata": {},
   "outputs": [
    {
     "data": {
      "text/plain": [
       "['bmw', 'audi', 'audi', 'tata', 'tesla', 'maruti']"
      ]
     },
     "execution_count": 5,
     "metadata": {},
     "output_type": "execute_result"
    }
   ],
   "source": [
    "cars"
   ]
  },
  {
   "cell_type": "code",
   "execution_count": 6,
   "id": "c1e613b9",
   "metadata": {},
   "outputs": [],
   "source": [
    "cars = ['bmw', 'tata', 'tesla', 'maruti']"
   ]
  },
  {
   "cell_type": "code",
   "execution_count": 7,
   "id": "ca3526fa",
   "metadata": {},
   "outputs": [],
   "source": [
    "cars.append(\"honda\")"
   ]
  },
  {
   "cell_type": "code",
   "execution_count": 8,
   "id": "8775a456",
   "metadata": {},
   "outputs": [
    {
     "data": {
      "text/plain": [
       "['bmw', 'tata', 'tesla', 'maruti', 'honda']"
      ]
     },
     "execution_count": 8,
     "metadata": {},
     "output_type": "execute_result"
    }
   ],
   "source": [
    "cars"
   ]
  },
  {
   "cell_type": "markdown",
   "id": "f7d5f2c6",
   "metadata": {},
   "source": [
    "# How to initialize a list"
   ]
  },
  {
   "cell_type": "code",
   "execution_count": 9,
   "id": "d2f0e512",
   "metadata": {},
   "outputs": [
    {
     "data": {
      "text/plain": [
       "list"
      ]
     },
     "execution_count": 9,
     "metadata": {},
     "output_type": "execute_result"
    }
   ],
   "source": [
    "fruits = []\n",
    "type (fruits)"
   ]
  },
  {
   "cell_type": "code",
   "execution_count": 14,
   "id": "2b88bc36",
   "metadata": {},
   "outputs": [],
   "source": [
    "fruits = []\n",
    "fruits = list() #list constructor"
   ]
  },
  {
   "cell_type": "code",
   "execution_count": 15,
   "id": "eaf93428",
   "metadata": {},
   "outputs": [],
   "source": [
    "fruits.append(\"Banana\")"
   ]
  },
  {
   "cell_type": "code",
   "execution_count": 16,
   "id": "c2ec4e5b",
   "metadata": {},
   "outputs": [
    {
     "data": {
      "text/plain": [
       "['Banana']"
      ]
     },
     "execution_count": 16,
     "metadata": {},
     "output_type": "execute_result"
    }
   ],
   "source": [
    "fruits"
   ]
  },
  {
   "cell_type": "code",
   "execution_count": 19,
   "id": "531d9d7c",
   "metadata": {},
   "outputs": [],
   "source": [
    "fruits.append([\"apple\",\"mango\"])"
   ]
  },
  {
   "cell_type": "code",
   "execution_count": 20,
   "id": "dbcde0a4",
   "metadata": {},
   "outputs": [
    {
     "data": {
      "text/plain": [
       "['Banana', ['apple', 'mango']]"
      ]
     },
     "execution_count": 20,
     "metadata": {},
     "output_type": "execute_result"
    }
   ],
   "source": [
    "fruits"
   ]
  },
  {
   "cell_type": "code",
   "execution_count": 21,
   "id": "1977267e",
   "metadata": {},
   "outputs": [
    {
     "data": {
      "text/plain": [
       "2"
      ]
     },
     "execution_count": 21,
     "metadata": {},
     "output_type": "execute_result"
    }
   ],
   "source": [
    "len(fruits)"
   ]
  },
  {
   "cell_type": "code",
   "execution_count": 23,
   "id": "ef98a7ab",
   "metadata": {},
   "outputs": [
    {
     "data": {
      "text/plain": [
       "['apple', 'mango']"
      ]
     },
     "execution_count": 23,
     "metadata": {},
     "output_type": "execute_result"
    }
   ],
   "source": [
    "fruits[1]"
   ]
  },
  {
   "cell_type": "code",
   "execution_count": 26,
   "id": "ac805859",
   "metadata": {},
   "outputs": [
    {
     "data": {
      "text/plain": [
       "'apple'"
      ]
     },
     "execution_count": 26,
     "metadata": {},
     "output_type": "execute_result"
    }
   ],
   "source": [
    "fruits[1][0] # list of list indexing"
   ]
  },
  {
   "cell_type": "code",
   "execution_count": 27,
   "id": "70efaf9d",
   "metadata": {},
   "outputs": [
    {
     "data": {
      "text/plain": [
       "'mango'"
      ]
     },
     "execution_count": 27,
     "metadata": {},
     "output_type": "execute_result"
    }
   ],
   "source": [
    "fruits[1][1]"
   ]
  },
  {
   "cell_type": "markdown",
   "id": "bd3952d3",
   "metadata": {},
   "source": [
    "# Python list as Stack"
   ]
  },
  {
   "cell_type": "code",
   "execution_count": 28,
   "id": "c6730d98",
   "metadata": {},
   "outputs": [],
   "source": [
    "# Push -- append()\n",
    "# Pop -- pop()"
   ]
  },
  {
   "cell_type": "code",
   "execution_count": 34,
   "id": "79fb6b23",
   "metadata": {},
   "outputs": [
    {
     "data": {
      "text/plain": [
       "['bmw', 'tata', 'tesla']"
      ]
     },
     "execution_count": 34,
     "metadata": {},
     "output_type": "execute_result"
    }
   ],
   "source": [
    "cars = ['bmw', 'tata', 'tesla', 'maruti']\n",
    "cars.pop()\n",
    "cars"
   ]
  },
  {
   "cell_type": "markdown",
   "id": "c0fe9484",
   "metadata": {},
   "source": [
    "# Python list as Queue"
   ]
  },
  {
   "cell_type": "code",
   "execution_count": 35,
   "id": "92b26a56",
   "metadata": {},
   "outputs": [
    {
     "data": {
      "text/plain": [
       "['tata', 'tesla', 'maruti']"
      ]
     },
     "execution_count": 35,
     "metadata": {},
     "output_type": "execute_result"
    }
   ],
   "source": [
    "cars = ['bmw', 'tata', 'tesla', 'maruti']\n",
    "cars.pop(0)\n",
    "cars"
   ]
  },
  {
   "cell_type": "code",
   "execution_count": null,
   "id": "a3ca9400",
   "metadata": {},
   "outputs": [],
   "source": []
  },
  {
   "cell_type": "code",
   "execution_count": 41,
   "id": "07c831e3",
   "metadata": {},
   "outputs": [],
   "source": [
    "list1 = [\"Apple\",\"Mango\",\"Banana\"]\n",
    "list2 = [\"Cherry\",\"berry\"]"
   ]
  },
  {
   "cell_type": "code",
   "execution_count": 42,
   "id": "ce665d11",
   "metadata": {},
   "outputs": [],
   "source": [
    "list1.extend(list2)"
   ]
  },
  {
   "cell_type": "code",
   "execution_count": 43,
   "id": "ece38297",
   "metadata": {},
   "outputs": [
    {
     "data": {
      "text/plain": [
       "['Apple', 'Mango', 'Banana', 'Cherry', 'berry']"
      ]
     },
     "execution_count": 43,
     "metadata": {},
     "output_type": "execute_result"
    }
   ],
   "source": [
    "list1"
   ]
  },
  {
   "cell_type": "code",
   "execution_count": 45,
   "id": "b04fcabd",
   "metadata": {},
   "outputs": [
    {
     "data": {
      "text/plain": [
       "['Apple', 'Mango', 'Banana', 'Cherry', 'berry']"
      ]
     },
     "execution_count": 45,
     "metadata": {},
     "output_type": "execute_result"
    }
   ],
   "source": [
    "list1 = [\"Apple\",\"Mango\",\"Banana\"]\n",
    "list2 = [\"Cherry\",\"berry\"]\n",
    "list3 = list1 + list2\n",
    "list3"
   ]
  },
  {
   "cell_type": "markdown",
   "id": "f42302cc",
   "metadata": {},
   "source": [
    "# Remove"
   ]
  },
  {
   "cell_type": "code",
   "execution_count": 4,
   "id": "9f0d41ac",
   "metadata": {},
   "outputs": [
    {
     "data": {
      "text/plain": [
       "['Mango', 'Banana', 'Apple']"
      ]
     },
     "execution_count": 4,
     "metadata": {},
     "output_type": "execute_result"
    }
   ],
   "source": [
    "list1 = [\"Apple\",\"Mango\",\"Banana\",\"Apple\"]\n",
    "list1.remove(\"Apple\")\n",
    "list1 # Linear search starts from 0 then onwards"
   ]
  },
  {
   "cell_type": "code",
   "execution_count": 5,
   "id": "6992443c",
   "metadata": {},
   "outputs": [
    {
     "data": {
      "text/plain": [
       "['Mango', 'Apple']"
      ]
     },
     "execution_count": 5,
     "metadata": {},
     "output_type": "execute_result"
    }
   ],
   "source": [
    "list1 = [\"Apple\",\"Mango\",\"Banana\",\"Apple\"]\n",
    "list1.remove(\"Apple\")\n",
    "list1.remove(\"Banana\")\n",
    "list1 # Linear search starts from 0 then onwards"
   ]
  },
  {
   "cell_type": "markdown",
   "id": "9d818e6e",
   "metadata": {},
   "source": [
    "# Sorting"
   ]
  },
  {
   "cell_type": "code",
   "execution_count": 49,
   "id": "5754bf07",
   "metadata": {},
   "outputs": [],
   "source": [
    "nums = [22,-1,4,5,99,0]"
   ]
  },
  {
   "cell_type": "code",
   "execution_count": 50,
   "id": "7e60b602",
   "metadata": {},
   "outputs": [
    {
     "data": {
      "text/plain": [
       "[-1, 0, 4, 5, 22, 99]"
      ]
     },
     "execution_count": 50,
     "metadata": {},
     "output_type": "execute_result"
    }
   ],
   "source": [
    "nums.sort()\n",
    "nums"
   ]
  },
  {
   "cell_type": "code",
   "execution_count": 51,
   "id": "ced1a537",
   "metadata": {},
   "outputs": [],
   "source": [
    "nums.sort(reverse=True)"
   ]
  },
  {
   "cell_type": "code",
   "execution_count": 52,
   "id": "98fb47a7",
   "metadata": {},
   "outputs": [
    {
     "data": {
      "text/plain": [
       "[99, 22, 5, 4, 0, -1]"
      ]
     },
     "execution_count": 52,
     "metadata": {},
     "output_type": "execute_result"
    }
   ],
   "source": [
    "nums"
   ]
  },
  {
   "cell_type": "code",
   "execution_count": 53,
   "id": "6477c992",
   "metadata": {},
   "outputs": [
    {
     "data": {
      "text/plain": [
       "[-1, 0, 4, 5, 22, 99]"
      ]
     },
     "execution_count": 53,
     "metadata": {},
     "output_type": "execute_result"
    }
   ],
   "source": [
    "sorted(nums)"
   ]
  },
  {
   "cell_type": "code",
   "execution_count": 56,
   "id": "42a6f1ec",
   "metadata": {},
   "outputs": [
    {
     "data": {
      "text/plain": [
       "[99, 22, 5, 4, 0, -1]"
      ]
     },
     "execution_count": 56,
     "metadata": {},
     "output_type": "execute_result"
    }
   ],
   "source": [
    "sorted(nums, reverse=True) #Sorted is built in of python so it does not changes the value of nums if the value should be changed variables should be assigned"
   ]
  },
  {
   "cell_type": "code",
   "execution_count": 57,
   "id": "691ff206",
   "metadata": {},
   "outputs": [
    {
     "data": {
      "text/plain": [
       "[99, 22, 5, 4, 0, -1]"
      ]
     },
     "execution_count": 57,
     "metadata": {},
     "output_type": "execute_result"
    }
   ],
   "source": [
    "nums"
   ]
  },
  {
   "cell_type": "code",
   "execution_count": 59,
   "id": "5fb4bf46",
   "metadata": {},
   "outputs": [],
   "source": [
    "sq = []\n",
    "for item in nums:\n",
    "    sq.append(item**2)"
   ]
  },
  {
   "cell_type": "code",
   "execution_count": 60,
   "id": "5a756ee4",
   "metadata": {},
   "outputs": [
    {
     "data": {
      "text/plain": [
       "[9801, 484, 25, 16, 0, 1]"
      ]
     },
     "execution_count": 60,
     "metadata": {},
     "output_type": "execute_result"
    }
   ],
   "source": [
    "sq"
   ]
  },
  {
   "cell_type": "code",
   "execution_count": 61,
   "id": "e75b1c70",
   "metadata": {},
   "outputs": [
    {
     "data": {
      "text/plain": [
       "[9801, 484, 25, 16, 0, 1]"
      ]
     },
     "execution_count": 61,
     "metadata": {},
     "output_type": "execute_result"
    }
   ],
   "source": [
    "[item ** 2 for item in nums] "
   ]
  },
  {
   "cell_type": "markdown",
   "id": "f2e30759",
   "metadata": {},
   "source": [
    "# List Comprehension"
   ]
  },
  {
   "cell_type": "code",
   "execution_count": 70,
   "id": "925cbe8e",
   "metadata": {},
   "outputs": [
    {
     "data": {
      "text/plain": [
       "['apple', 'banana', 'mango']"
      ]
     },
     "execution_count": 70,
     "metadata": {},
     "output_type": "execute_result"
    }
   ],
   "source": [
    "fruits = [\"APPLE\", \"BANANA\", \"MANGO\"]\n",
    "[item.lower() for item in fruits]"
   ]
  },
  {
   "cell_type": "code",
   "execution_count": 71,
   "id": "1e1bbd2c",
   "metadata": {},
   "outputs": [
    {
     "data": {
      "text/plain": [
       "[-5, -4, -3, -2, -1, 0, 1, 2, 3, 4, 5, 6, 7, 8, 9, 10, 11, 12, 13, 14]"
      ]
     },
     "execution_count": 71,
     "metadata": {},
     "output_type": "execute_result"
    }
   ],
   "source": [
    "[item for item in range(-5,15)]"
   ]
  },
  {
   "cell_type": "code",
   "execution_count": 73,
   "id": "b6c2e65c",
   "metadata": {},
   "outputs": [
    {
     "data": {
      "text/plain": [
       "[-5, -4, -3, -2, -1, 0, 1, 2, 3, 4, 5]"
      ]
     },
     "execution_count": 73,
     "metadata": {},
     "output_type": "execute_result"
    }
   ],
   "source": [
    "[item for item in range(-5,15) if item <= 5] #List Comprehension"
   ]
  },
  {
   "cell_type": "code",
   "execution_count": 74,
   "id": "a86f4083",
   "metadata": {},
   "outputs": [
    {
     "data": {
      "text/plain": [
       "[0, 0, 0, 0, 0, 0]"
      ]
     },
     "execution_count": 74,
     "metadata": {},
     "output_type": "execute_result"
    }
   ],
   "source": [
    "[0 for item in range(-5,15) if item <= 0]"
   ]
  },
  {
   "cell_type": "code",
   "execution_count": 75,
   "id": "744a7378",
   "metadata": {},
   "outputs": [
    {
     "data": {
      "text/plain": [
       "[0, 0, 0, 0, 0, 0, 1, 2, 3, 4]"
      ]
     },
     "execution_count": 75,
     "metadata": {},
     "output_type": "execute_result"
    }
   ],
   "source": [
    "[0 if item<=0 else item for item in range(-5,5)]"
   ]
  },
  {
   "cell_type": "code",
   "execution_count": null,
   "id": "662efb65",
   "metadata": {},
   "outputs": [],
   "source": [
    " "
   ]
  }
 ],
 "metadata": {
  "kernelspec": {
   "display_name": "Python 3 (ipykernel)",
   "language": "python",
   "name": "python3"
  },
  "language_info": {
   "codemirror_mode": {
    "name": "ipython",
    "version": 3
   },
   "file_extension": ".py",
   "mimetype": "text/x-python",
   "name": "python",
   "nbconvert_exporter": "python",
   "pygments_lexer": "ipython3",
   "version": "3.8.10"
  }
 },
 "nbformat": 4,
 "nbformat_minor": 5
}
