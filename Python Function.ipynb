{
 "cells": [
  {
   "cell_type": "code",
   "execution_count": null,
   "id": "9b657f98",
   "metadata": {},
   "outputs": [],
   "source": [
    "a = 55\n",
    "b = 6\n",
    "c = a+b\n",
    "print(\"Total = {}\".format(c))"
   ]
  },
  {
   "cell_type": "code",
   "execution_count": null,
   "id": "9144e133",
   "metadata": {},
   "outputs": [],
   "source": [
    "def add():\n",
    "    a = 55\n",
    "    b = 6\n",
    "    c = a+b\n",
    "    print(\"Total = {}\".format(c))"
   ]
  },
  {
   "cell_type": "code",
   "execution_count": null,
   "id": "184f9a80",
   "metadata": {},
   "outputs": [],
   "source": [
    "add()"
   ]
  },
  {
   "cell_type": "code",
   "execution_count": null,
   "id": "0e68f506",
   "metadata": {},
   "outputs": [],
   "source": [
    "a = 4\n",
    "b = 3"
   ]
  },
  {
   "cell_type": "code",
   "execution_count": null,
   "id": "fea47d10",
   "metadata": {},
   "outputs": [],
   "source": [
    "add(a, b)"
   ]
  },
  {
   "cell_type": "code",
   "execution_count": null,
   "id": "e614b00f",
   "metadata": {},
   "outputs": [],
   "source": [
    "def add(a, b): # a and b are arguments or parameters\n",
    "    \"\"\"\n",
    "        a:int\n",
    "            first parameter\n",
    "        b:int\n",
    "            second parameter\n",
    "    \"\"\"\n",
    "    c = a+b \n",
    "    print(\"Total = {}\".format(c))\n",
    "    return c #return statement in python"
   ]
  },
  {
   "cell_type": "code",
   "execution_count": null,
   "id": "4f291972",
   "metadata": {},
   "outputs": [],
   "source": [
    "a = 4\n",
    "b = 3\n",
    "y = add(a, b)"
   ]
  },
  {
   "cell_type": "code",
   "execution_count": null,
   "id": "1ca821d7",
   "metadata": {},
   "outputs": [],
   "source": [
    "y"
   ]
  },
  {
   "cell_type": "code",
   "execution_count": null,
   "id": "95e665f3",
   "metadata": {},
   "outputs": [],
   "source": [
    "add(80, 70)"
   ]
  },
  {
   "cell_type": "code",
   "execution_count": 1,
   "id": "6875215a",
   "metadata": {},
   "outputs": [],
   "source": [
    "def greet(name):\n",
    "    print(\"Hello, {}\".format(name))"
   ]
  },
  {
   "cell_type": "code",
   "execution_count": 2,
   "id": "d8f6abcd",
   "metadata": {},
   "outputs": [
    {
     "name": "stdout",
     "output_type": "stream",
     "text": [
      "Hello, Manjil\n"
     ]
    }
   ],
   "source": [
    "greet(\"Manjil\")"
   ]
  },
  {
   "cell_type": "code",
   "execution_count": 3,
   "id": "563364e5",
   "metadata": {},
   "outputs": [],
   "source": [
    "def greet(name, msg):\n",
    "    print(\"{}, {}\".format(msg, name))"
   ]
  },
  {
   "cell_type": "code",
   "execution_count": 4,
   "id": "13e0e440",
   "metadata": {},
   "outputs": [
    {
     "name": "stdout",
     "output_type": "stream",
     "text": [
      "Hello, manjil\n"
     ]
    }
   ],
   "source": [
    "greet(name = \"manjil\", msg = \"Hello\")"
   ]
  },
  {
   "cell_type": "markdown",
   "id": "a9bd106f",
   "metadata": {},
   "source": [
    "# Default argument in python function"
   ]
  },
  {
   "cell_type": "code",
   "execution_count": 19,
   "id": "5e158125",
   "metadata": {},
   "outputs": [],
   "source": [
    "def greet(name, msg = \"Good morning\"): #msg is default argument\n",
    "    print(\"{}, {}\".format(msg, name))"
   ]
  },
  {
   "cell_type": "code",
   "execution_count": 20,
   "id": "489cdacf",
   "metadata": {},
   "outputs": [
    {
     "name": "stdout",
     "output_type": "stream",
     "text": [
      "Good morning, jack\n"
     ]
    }
   ],
   "source": [
    "greet(\"jack\")"
   ]
  },
  {
   "cell_type": "code",
   "execution_count": 21,
   "id": "0e66502c",
   "metadata": {},
   "outputs": [
    {
     "name": "stdout",
     "output_type": "stream",
     "text": [
      "Good Afternoon, Manjil\n"
     ]
    }
   ],
   "source": [
    "greet(\"Manjil\",\"Good Afternoon\")"
   ]
  },
  {
   "cell_type": "code",
   "execution_count": 23,
   "id": "65908ed3",
   "metadata": {},
   "outputs": [
    {
     "ename": "SyntaxError",
     "evalue": "non-default argument follows default argument (2898793602.py, line 1)",
     "output_type": "error",
     "traceback": [
      "\u001b[1;36m  Input \u001b[1;32mIn [23]\u001b[1;36m\u001b[0m\n\u001b[1;33m    def greet(msg = \"Good morning\", name): #name is non-default argument\u001b[0m\n\u001b[1;37m              ^\u001b[0m\n\u001b[1;31mSyntaxError\u001b[0m\u001b[1;31m:\u001b[0m non-default argument follows default argument\n"
     ]
    }
   ],
   "source": [
    "def greet(msg = \"Good morning\", name): #name is non-default argument\n",
    "    print(\"{}, {}\".format(msg, name))"
   ]
  },
  {
   "cell_type": "code",
   "execution_count": 24,
   "id": "843de91d",
   "metadata": {},
   "outputs": [
    {
     "ename": "SyntaxError",
     "evalue": "non-default argument follows default argument (451660670.py, line 1)",
     "output_type": "error",
     "traceback": [
      "\u001b[1;36m  Input \u001b[1;32mIn [24]\u001b[1;36m\u001b[0m\n\u001b[1;33m    def greet(name, msg = \"Good morning\", rollno): #msg is default argument\u001b[0m\n\u001b[1;37m              ^\u001b[0m\n\u001b[1;31mSyntaxError\u001b[0m\u001b[1;31m:\u001b[0m non-default argument follows default argument\n"
     ]
    }
   ],
   "source": [
    "def greet(name, msg = \"Good morning\", rollno): #msg is default argument\n",
    "    print(\"{}, {}\".format(msg, name))"
   ]
  },
  {
   "cell_type": "code",
   "execution_count": 25,
   "id": "5dfbcb94",
   "metadata": {},
   "outputs": [
    {
     "data": {
      "text/plain": [
       "'\\n    msg is default argument\\n    name is non default argument\\n    non default argument follows default argument\\n'"
      ]
     },
     "execution_count": 25,
     "metadata": {},
     "output_type": "execute_result"
    }
   ],
   "source": [
    "\n",
    "    # msg is default argument\n",
    "    # name is non default argument\n",
    "    # non default argument follows default argument"
   ]
  },
  {
   "cell_type": "code",
   "execution_count": 3,
   "id": "6f08f664",
   "metadata": {},
   "outputs": [],
   "source": [
    "def greet(name, msg = \"Good morning\", rollno = 0): #msg is default argument\n",
    "    print(\"{}, {}\".format(msg, name))"
   ]
  },
  {
   "cell_type": "markdown",
   "id": "f84b1b91",
   "metadata": {},
   "source": [
    "# Local and Global variable [Optional]"
   ]
  },
  {
   "cell_type": "code",
   "execution_count": 27,
   "id": "282d9b4f",
   "metadata": {},
   "outputs": [],
   "source": [
    "def add(a,b):\n",
    "    c=a+b\n",
    "    return c"
   ]
  },
  {
   "cell_type": "code",
   "execution_count": 28,
   "id": "a0700079",
   "metadata": {},
   "outputs": [],
   "source": [
    "total = add(5,6)"
   ]
  },
  {
   "cell_type": "code",
   "execution_count": 29,
   "id": "901da61c",
   "metadata": {},
   "outputs": [
    {
     "data": {
      "text/plain": [
       "11"
      ]
     },
     "execution_count": 29,
     "metadata": {},
     "output_type": "execute_result"
    }
   ],
   "source": [
    "total"
   ]
  },
  {
   "cell_type": "code",
   "execution_count": 30,
   "id": "042e2f8b",
   "metadata": {},
   "outputs": [
    {
     "ename": "NameError",
     "evalue": "name 'a' is not defined",
     "output_type": "error",
     "traceback": [
      "\u001b[1;31m---------------------------------------------------------------------------\u001b[0m",
      "\u001b[1;31mNameError\u001b[0m                                 Traceback (most recent call last)",
      "Input \u001b[1;32mIn [30]\u001b[0m, in \u001b[0;36m<cell line: 1>\u001b[1;34m()\u001b[0m\n\u001b[1;32m----> 1\u001b[0m \u001b[43ma\u001b[49m\n",
      "\u001b[1;31mNameError\u001b[0m: name 'a' is not defined"
     ]
    }
   ],
   "source": [
    "a"
   ]
  },
  {
   "cell_type": "code",
   "execution_count": 31,
   "id": "5407a272",
   "metadata": {},
   "outputs": [
    {
     "ename": "NameError",
     "evalue": "name 'c' is not defined",
     "output_type": "error",
     "traceback": [
      "\u001b[1;31m---------------------------------------------------------------------------\u001b[0m",
      "\u001b[1;31mNameError\u001b[0m                                 Traceback (most recent call last)",
      "Input \u001b[1;32mIn [31]\u001b[0m, in \u001b[0;36m<cell line: 1>\u001b[1;34m()\u001b[0m\n\u001b[1;32m----> 1\u001b[0m \u001b[43mc\u001b[49m\n",
      "\u001b[1;31mNameError\u001b[0m: name 'c' is not defined"
     ]
    }
   ],
   "source": [
    "c"
   ]
  },
  {
   "cell_type": "code",
   "execution_count": 32,
   "id": "cb9bcb94",
   "metadata": {},
   "outputs": [],
   "source": [
    "def add(a,b):\n",
    "    global c\n",
    "    c=a+b\n",
    "    return c"
   ]
  },
  {
   "cell_type": "code",
   "execution_count": 34,
   "id": "349d6632",
   "metadata": {},
   "outputs": [],
   "source": [
    "total = add(7,8)"
   ]
  },
  {
   "cell_type": "code",
   "execution_count": 35,
   "id": "d13136e0",
   "metadata": {},
   "outputs": [
    {
     "data": {
      "text/plain": [
       "15"
      ]
     },
     "execution_count": 35,
     "metadata": {},
     "output_type": "execute_result"
    }
   ],
   "source": [
    "c"
   ]
  },
  {
   "cell_type": "code",
   "execution_count": 41,
   "id": "812fb3dd",
   "metadata": {},
   "outputs": [],
   "source": [
    "def sub():\n",
    "    print(c/5)"
   ]
  },
  {
   "cell_type": "code",
   "execution_count": 42,
   "id": "7ab8bd2c",
   "metadata": {},
   "outputs": [
    {
     "name": "stdout",
     "output_type": "stream",
     "text": [
      "3.0\n"
     ]
    }
   ],
   "source": [
    "sub()"
   ]
  },
  {
   "cell_type": "code",
   "execution_count": 43,
   "id": "c92d8193",
   "metadata": {},
   "outputs": [
    {
     "name": "stdout",
     "output_type": "stream",
     "text": [
      "awesome\n",
      "Python is fantastic\n"
     ]
    }
   ],
   "source": [
    "x = \"awesome\"\n",
    "def myfunc():\n",
    "    global x\n",
    "    x = \"fantastic\"\n",
    "print(x)\n",
    "myfunc()\n",
    "print(\"Python is \" + x)"
   ]
  },
  {
   "cell_type": "code",
   "execution_count": 44,
   "id": "70fc09f7",
   "metadata": {},
   "outputs": [],
   "source": [
    " #  *args and  **kwargs in python"
   ]
  },
  {
   "cell_type": "code",
   "execution_count": 46,
   "id": "d3140f91",
   "metadata": {},
   "outputs": [],
   "source": [
    "def add(*args):\n",
    "    total = 0\n",
    "    for item in args:\n",
    "        total = total + item\n",
    "        \n",
    "    return total"
   ]
  },
  {
   "cell_type": "code",
   "execution_count": 47,
   "id": "49d8d7d9",
   "metadata": {},
   "outputs": [
    {
     "data": {
      "text/plain": [
       "55"
      ]
     },
     "execution_count": 47,
     "metadata": {},
     "output_type": "execute_result"
    }
   ],
   "source": [
    "add(1,2,3,4,5,6,7,8,9,10)"
   ]
  },
  {
   "cell_type": "code",
   "execution_count": 54,
   "id": "a0d66e16",
   "metadata": {},
   "outputs": [],
   "source": [
    "def test(**kwargs): #keyword argument\n",
    "    print(kwargs)\n",
    "    print(type(kwargs))\n",
    "    print(kwargs.get(\"age\"))"
   ]
  },
  {
   "cell_type": "code",
   "execution_count": 55,
   "id": "0e42519d",
   "metadata": {},
   "outputs": [
    {
     "ename": "TypeError",
     "evalue": "test() takes 0 positional arguments but 3 were given",
     "output_type": "error",
     "traceback": [
      "\u001b[1;31m---------------------------------------------------------------------------\u001b[0m",
      "\u001b[1;31mTypeError\u001b[0m                                 Traceback (most recent call last)",
      "Input \u001b[1;32mIn [55]\u001b[0m, in \u001b[0;36m<cell line: 1>\u001b[1;34m()\u001b[0m\n\u001b[1;32m----> 1\u001b[0m \u001b[43mtest\u001b[49m\u001b[43m(\u001b[49m\u001b[38;5;241;43m1\u001b[39;49m\u001b[43m,\u001b[49m\u001b[38;5;241;43m2\u001b[39;49m\u001b[43m,\u001b[49m\u001b[38;5;241;43m3\u001b[39;49m\u001b[43m)\u001b[49m\n",
      "\u001b[1;31mTypeError\u001b[0m: test() takes 0 positional arguments but 3 were given"
     ]
    }
   ],
   "source": [
    "test(1,2,3)"
   ]
  },
  {
   "cell_type": "code",
   "execution_count": 56,
   "id": "ccb8fa3a",
   "metadata": {},
   "outputs": [
    {
     "name": "stdout",
     "output_type": "stream",
     "text": [
      "{'name': 'Manjil', 'age': 21}\n",
      "<class 'dict'>\n",
      "21\n"
     ]
    }
   ],
   "source": [
    "test(name=\"Manjil\", age=21)"
   ]
  },
  {
   "cell_type": "code",
   "execution_count": 57,
   "id": "f04227e9",
   "metadata": {},
   "outputs": [],
   "source": [
    "def add(a, b):\n",
    "    c = a + b\n",
    "    return a, b ,c"
   ]
  },
  {
   "cell_type": "code",
   "execution_count": 58,
   "id": "801d1685",
   "metadata": {},
   "outputs": [
    {
     "data": {
      "text/plain": [
       "(7, 8, 15)"
      ]
     },
     "execution_count": 58,
     "metadata": {},
     "output_type": "execute_result"
    }
   ],
   "source": [
    "add(7,8)"
   ]
  },
  {
   "cell_type": "code",
   "execution_count": 66,
   "id": "38005a6a",
   "metadata": {},
   "outputs": [],
   "source": [
    "num1, num2, total = add(8,9) #unpacking"
   ]
  },
  {
   "cell_type": "code",
   "execution_count": 67,
   "id": "65bb8277",
   "metadata": {},
   "outputs": [
    {
     "data": {
      "text/plain": [
       "8"
      ]
     },
     "execution_count": 67,
     "metadata": {},
     "output_type": "execute_result"
    }
   ],
   "source": [
    "num1"
   ]
  },
  {
   "cell_type": "code",
   "execution_count": 68,
   "id": "82a82a1f",
   "metadata": {},
   "outputs": [
    {
     "data": {
      "text/plain": [
       "9"
      ]
     },
     "execution_count": 68,
     "metadata": {},
     "output_type": "execute_result"
    }
   ],
   "source": [
    "num2"
   ]
  },
  {
   "cell_type": "code",
   "execution_count": 69,
   "id": "78bc068e",
   "metadata": {},
   "outputs": [
    {
     "data": {
      "text/plain": [
       "17"
      ]
     },
     "execution_count": 69,
     "metadata": {},
     "output_type": "execute_result"
    }
   ],
   "source": [
    "total"
   ]
  },
  {
   "cell_type": "markdown",
   "id": "31fe28c3",
   "metadata": {},
   "source": [
    "# CW: Write a function to check if the given input number is prime or not if prime return true else return false"
   ]
  },
  {
   "cell_type": "code",
   "execution_count": 4,
   "id": "bd37cb34",
   "metadata": {},
   "outputs": [],
   "source": [
    "def func(nums):\n",
    "    for item in nums:\n",
    "        if items == 0:\n",
    "            print(prime)\n",
    "        else:\n",
    "            print(non_prime)\n",
    "        return nums"
   ]
  },
  {
   "cell_type": "code",
   "execution_count": 5,
   "id": "86e3eb0d",
   "metadata": {},
   "outputs": [
    {
     "name": "stdout",
     "output_type": "stream",
     "text": [
      "Enter a number17\n"
     ]
    }
   ],
   "source": [
    "nums = int(input(\"Enter a number\"))"
   ]
  },
  {
   "cell_type": "code",
   "execution_count": null,
   "id": "9e47c008",
   "metadata": {},
   "outputs": [],
   "source": []
  }
 ],
 "metadata": {
  "kernelspec": {
   "display_name": "Python 3 (ipykernel)",
   "language": "python",
   "name": "python3"
  },
  "language_info": {
   "codemirror_mode": {
    "name": "ipython",
    "version": 3
   },
   "file_extension": ".py",
   "mimetype": "text/x-python",
   "name": "python",
   "nbconvert_exporter": "python",
   "pygments_lexer": "ipython3",
   "version": "3.8.10"
  }
 },
 "nbformat": 4,
 "nbformat_minor": 5
}
