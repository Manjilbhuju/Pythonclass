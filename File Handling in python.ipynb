{
 "cells": [
  {
   "cell_type": "markdown",
   "id": "74ecf1a0",
   "metadata": {},
   "source": [
    "# File handling\n",
    "* Open\n",
    "* Read\n",
    "* Write / Edit\n",
    "* close\n",
    "* remove"
   ]
  },
  {
   "cell_type": "markdown",
   "id": "0ff14a1e",
   "metadata": {},
   "source": [
    "# Read in file handling"
   ]
  },
  {
   "cell_type": "code",
   "execution_count": 3,
   "id": "5847b8ad",
   "metadata": {},
   "outputs": [],
   "source": [
    "f = open('news.txt', 'r')"
   ]
  },
  {
   "cell_type": "code",
   "execution_count": 4,
   "id": "5b5f96da",
   "metadata": {},
   "outputs": [
    {
     "data": {
      "text/plain": [
       "\"Celebrated climber Nirmal Purja 'Nimsdai' has been airlifted to Kathmandu after he met with an accident while gliding off the Manaslu base camp this afternoon, a source at the base camp confirmed.A Simrik Air chopper airlifted Nimsdai from Samagaun to HAMS Hospital here. The climber apparently struck a rock while taking off for a paragliding flight at the base camp, sources claimed. Elite Expedition Pvt Ltd owned by Nimsdai has obtained a permit from from the Ministry of Culture, Tourism and Civil Aviation to conduct a feasibility study on paragliding from the 8163-metre peak this season.\""
      ]
     },
     "execution_count": 4,
     "metadata": {},
     "output_type": "execute_result"
    }
   ],
   "source": [
    "f.read()"
   ]
  },
  {
   "cell_type": "code",
   "execution_count": 10,
   "id": "65c9b292",
   "metadata": {},
   "outputs": [],
   "source": [
    "f = open('news.txt', 'r')"
   ]
  },
  {
   "cell_type": "code",
   "execution_count": 11,
   "id": "c563d0b4",
   "metadata": {},
   "outputs": [
    {
     "data": {
      "text/plain": [
       "\"Celebrated climber Nirmal Purja 'Nimsdai' has been airlifted to Kathmandu after he met with an accident while gliding off the Manaslu base camp this afternoon, a source at the base camp confirmed.A Simrik Air chopper airlifted Nimsdai from Samagaun to HAMS Hospital here. The climber apparently struck a rock while taking off for a paragliding flight at the base camp, sources claimed. Elite Expedition Pvt Ltd owned by Nimsdai has obtained a permit from from the Ministry of Culture, Tourism and Civil Aviation to conduct a feasibility study on paragliding from the 8163-metre peak this season.\\n\""
      ]
     },
     "execution_count": 11,
     "metadata": {},
     "output_type": "execute_result"
    }
   ],
   "source": [
    "f.readline()"
   ]
  },
  {
   "cell_type": "code",
   "execution_count": 16,
   "id": "17db297e",
   "metadata": {},
   "outputs": [],
   "source": [
    "f = open('news.txt', 'r')\n",
    "content = f.readline()"
   ]
  },
  {
   "cell_type": "code",
   "execution_count": 17,
   "id": "448bbeec",
   "metadata": {},
   "outputs": [
    {
     "data": {
      "text/plain": [
       "str"
      ]
     },
     "execution_count": 17,
     "metadata": {},
     "output_type": "execute_result"
    }
   ],
   "source": [
    "type(content)"
   ]
  },
  {
   "cell_type": "code",
   "execution_count": 18,
   "id": "ee42529b",
   "metadata": {},
   "outputs": [],
   "source": [
    "f = open('news.txt', 'r')\n",
    "content = f.readlines()"
   ]
  },
  {
   "cell_type": "code",
   "execution_count": 19,
   "id": "50bae160",
   "metadata": {},
   "outputs": [
    {
     "data": {
      "text/plain": [
       "list"
      ]
     },
     "execution_count": 19,
     "metadata": {},
     "output_type": "execute_result"
    }
   ],
   "source": [
    "type(content)"
   ]
  },
  {
   "cell_type": "code",
   "execution_count": 22,
   "id": "524f193f",
   "metadata": {},
   "outputs": [],
   "source": [
    "f = open('news.txt', 'r')\n",
    "content = f.readline()\n",
    "f.close() # we must close the file"
   ]
  },
  {
   "cell_type": "code",
   "execution_count": 23,
   "id": "19029c0f",
   "metadata": {},
   "outputs": [
    {
     "data": {
      "text/plain": [
       "\"Celebrated climber Nirmal Purja 'Nimsdai' has been airlifted to Kathmandu after he met with an accident while gliding off the Manaslu base camp this afternoon, a source at the base camp confirmed.A Simrik Air chopper airlifted Nimsdai from Samagaun to HAMS Hospital here. The climber apparently struck a rock while taking off for a paragliding flight at the base camp, sources claimed. Elite Expedition Pvt Ltd owned by Nimsdai has obtained a permit from from the Ministry of Culture, Tourism and Civil Aviation to conduct a feasibility study on paragliding from the 8163-metre peak this season.\\n\""
      ]
     },
     "execution_count": 23,
     "metadata": {},
     "output_type": "execute_result"
    }
   ],
   "source": [
    "content"
   ]
  },
  {
   "cell_type": "code",
   "execution_count": 24,
   "id": "84e857e3",
   "metadata": {},
   "outputs": [
    {
     "data": {
      "text/plain": [
       "_io.TextIOWrapper"
      ]
     },
     "execution_count": 24,
     "metadata": {},
     "output_type": "execute_result"
    }
   ],
   "source": [
    "f = open('news.txt', 'r')\n",
    "type(f)"
   ]
  },
  {
   "cell_type": "code",
   "execution_count": 25,
   "id": "07cb04d1",
   "metadata": {},
   "outputs": [
    {
     "data": {
      "text/plain": [
       "<_io.TextIOWrapper name='news.txt' mode='r' encoding='cp1252'>"
      ]
     },
     "execution_count": 25,
     "metadata": {},
     "output_type": "execute_result"
    }
   ],
   "source": [
    "f"
   ]
  },
  {
   "cell_type": "code",
   "execution_count": 27,
   "id": "36f329c0",
   "metadata": {},
   "outputs": [
    {
     "data": {
      "text/plain": [
       "\"Celebrated climber Nirmal Purja 'Nimsdai' has been airlifted to Kathmandu after he met with an accident while gliding off the Manaslu base camp this afternoon, a source at the base camp confirmed.A Simrik Air chopper airlifted Nimsdai from Samagaun to HAMS Hospital here. The climber apparently struck a rock while taking off for a paragliding flight at the base camp, sources claimed. Elite Expedition Pvt Ltd owned by Nimsdai has obtained a permit from from the Ministry of Culture, Tourism and Civil Aviation to conduct a feasibility study on paragliding from the 8163-metre peak this season.\\n\""
      ]
     },
     "execution_count": 27,
     "metadata": {},
     "output_type": "execute_result"
    }
   ],
   "source": [
    "with open('news.txt', 'r') as f:  # Prefered method\n",
    "    content = f.readlines()\n",
    "    \n",
    "content[0]"
   ]
  },
  {
   "cell_type": "markdown",
   "id": "8c9dd92a",
   "metadata": {},
   "source": [
    "# Write in Files"
   ]
  },
  {
   "cell_type": "code",
   "execution_count": 31,
   "id": "838deb67",
   "metadata": {},
   "outputs": [],
   "source": [
    "with open(\"write.txt\", \"w\") as f:\n",
    "    f.write(\"This is first sentence \\n\")"
   ]
  },
  {
   "cell_type": "code",
   "execution_count": 33,
   "id": "9d6ef360",
   "metadata": {},
   "outputs": [
    {
     "name": "stdout",
     "output_type": "stream",
     "text": [
      "This is first sentence \n",
      "\n"
     ]
    }
   ],
   "source": [
    "with open(\"write.txt\", \"r\") as f:\n",
    "    print(f.read())"
   ]
  },
  {
   "cell_type": "code",
   "execution_count": 49,
   "id": "d43f5bd7",
   "metadata": {},
   "outputs": [
    {
     "name": "stdout",
     "output_type": "stream",
     "text": [
      "This is second sentence \n",
      "\n"
     ]
    }
   ],
   "source": [
    "with open(\"write.txt\", \"w\") as f:\n",
    "    f.write(\"This is second sentence \\n\")\n",
    "\n",
    "with open(\"write.txt\", \"r\") as f:\n",
    "    print(f.read())"
   ]
  },
  {
   "cell_type": "markdown",
   "id": "d61d5324",
   "metadata": {},
   "source": [
    "# Append in file"
   ]
  },
  {
   "cell_type": "code",
   "execution_count": 51,
   "id": "89a690e2",
   "metadata": {},
   "outputs": [
    {
     "name": "stdout",
     "output_type": "stream",
     "text": [
      "This is second sentence \n",
      "\n"
     ]
    }
   ],
   "source": [
    "with open(\"write.txt\", \"r\") as f:\n",
    "    print(f.read())"
   ]
  },
  {
   "cell_type": "code",
   "execution_count": 52,
   "id": "dd8b860a",
   "metadata": {},
   "outputs": [],
   "source": [
    "with open(\"write.txt\", \"a\") as f:\n",
    "    f.write(\"\\n This is last sentence \\n\")"
   ]
  },
  {
   "cell_type": "code",
   "execution_count": 54,
   "id": "078f9e7e",
   "metadata": {},
   "outputs": [
    {
     "name": "stdout",
     "output_type": "stream",
     "text": [
      "This is second sentence \n",
      "\n",
      " This is last sentence \n",
      "\n"
     ]
    }
   ],
   "source": [
    "with open(\"write.txt\", \"r\") as f:\n",
    "    print(f.read())"
   ]
  },
  {
   "cell_type": "code",
   "execution_count": 55,
   "id": "44fdfc57",
   "metadata": {},
   "outputs": [],
   "source": [
    "with open(\"myfile.txt\", \"a\") as f:\n",
    "    f.write(\"\\n This is last sentence \\n\")"
   ]
  },
  {
   "cell_type": "code",
   "execution_count": 56,
   "id": "2934dab4",
   "metadata": {},
   "outputs": [
    {
     "name": "stdout",
     "output_type": "stream",
     "text": [
      "\n",
      " This is last sentence \n",
      "\n"
     ]
    }
   ],
   "source": [
    "with open(\"myfile.txt\", \"r\") as f:\n",
    "    print(f.read())"
   ]
  },
  {
   "cell_type": "code",
   "execution_count": 59,
   "id": "99daf23d",
   "metadata": {},
   "outputs": [],
   "source": [
    "import os"
   ]
  },
  {
   "cell_type": "code",
   "execution_count": 60,
   "id": "5338c92a",
   "metadata": {},
   "outputs": [
    {
     "name": "stdout",
     "output_type": "stream",
     "text": [
      "File removed\n"
     ]
    }
   ],
   "source": [
    "if os.path.exists(\"myfile.txt\"):\n",
    "    os.remove(\"myfile.txt\")\n",
    "    print(\"File removed\")\n",
    "else:\n",
    "    print(\"File not found\")"
   ]
  },
  {
   "cell_type": "code",
   "execution_count": 61,
   "id": "f3562115",
   "metadata": {},
   "outputs": [
    {
     "data": {
      "text/plain": [
       "False"
      ]
     },
     "execution_count": 61,
     "metadata": {},
     "output_type": "execute_result"
    }
   ],
   "source": [
    "os.path.exists(\"myfile.txt\")"
   ]
  },
  {
   "cell_type": "code",
   "execution_count": 62,
   "id": "7caf299d",
   "metadata": {},
   "outputs": [
    {
     "data": {
      "text/plain": [
       "['.ipynb_checkpoints',\n",
       " '1Class.ipynb',\n",
       " '2nd Class.ipynb',\n",
       " '3 conditional operator with python numbers.ipynb',\n",
       " '3 number datatype in python.ipynb',\n",
       " '3 user input in python.ipynb',\n",
       " '4 Comparison operator.ipynb',\n",
       " '4Class.ipynb',\n",
       " 'Anonymous Function OR Lambda function.ipynb',\n",
       " 'Assignment_1.ipynb',\n",
       " 'Assignment_2.ipynb',\n",
       " 'Assignment_3.ipynb',\n",
       " 'Assignment_4.ipynb',\n",
       " 'BMI calculator.ipynb',\n",
       " 'Calculate mean using python list.ipynb',\n",
       " 'Dictionary.ipynb',\n",
       " 'Factorial of number.ipynb',\n",
       " 'File Handling in python.ipynb',\n",
       " 'Inheritance in Python.ipynb',\n",
       " 'List Methods in Python.ipynb',\n",
       " 'Membership operator.ipynb',\n",
       " 'Negative index in python.ipynb',\n",
       " 'news.txt',\n",
       " 'Nonetype.ipynb',\n",
       " 'OOP in Python Class and Objects.ipynb',\n",
       " 'Python Function.ipynb',\n",
       " 'Python List.ipynb',\n",
       " 'Python Set.ipynb',\n",
       " 'Python String.ipynb',\n",
       " 'Recursion.ipynb',\n",
       " 'Slicing and indexing in Python String.ipynb',\n",
       " 'Split in Python String.ipynb',\n",
       " 'Tuple.ipynb',\n",
       " 'Vowel and consonant count.ipynb',\n",
       " 'While Loop.ipynb',\n",
       " 'write.txt']"
      ]
     },
     "execution_count": 62,
     "metadata": {},
     "output_type": "execute_result"
    }
   ],
   "source": [
    "os.listdir()"
   ]
  },
  {
   "cell_type": "code",
   "execution_count": 63,
   "id": "5f8c9c5a",
   "metadata": {},
   "outputs": [
    {
     "data": {
      "text/plain": [
       "'C:\\\\Users\\\\User\\\\Desktop\\\\Python'"
      ]
     },
     "execution_count": 63,
     "metadata": {},
     "output_type": "execute_result"
    }
   ],
   "source": [
    "os.getcwd()"
   ]
  },
  {
   "cell_type": "code",
   "execution_count": null,
   "id": "767df029",
   "metadata": {},
   "outputs": [],
   "source": []
  }
 ],
 "metadata": {
  "kernelspec": {
   "display_name": "Python 3 (ipykernel)",
   "language": "python",
   "name": "python3"
  },
  "language_info": {
   "codemirror_mode": {
    "name": "ipython",
    "version": 3
   },
   "file_extension": ".py",
   "mimetype": "text/x-python",
   "name": "python",
   "nbconvert_exporter": "python",
   "pygments_lexer": "ipython3",
   "version": "3.8.10"
  }
 },
 "nbformat": 4,
 "nbformat_minor": 5
}
