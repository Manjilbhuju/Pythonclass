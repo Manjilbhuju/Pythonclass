{
 "cells": [
  {
   "cell_type": "code",
   "execution_count": 1,
   "id": "cc8914fe",
   "metadata": {},
   "outputs": [],
   "source": [
    "def fact(num):\n",
    "    if num == 0 or num == 1:\n",
    "        return 1\n",
    "    else:\n",
    "        return num * fact(num-1)"
   ]
  },
  {
   "cell_type": "code",
   "execution_count": 2,
   "id": "42ea300a",
   "metadata": {},
   "outputs": [
    {
     "data": {
      "text/plain": [
       "120"
      ]
     },
     "execution_count": 2,
     "metadata": {},
     "output_type": "execute_result"
    }
   ],
   "source": [
    "fact(5)"
   ]
  },
  {
   "cell_type": "markdown",
   "id": "d79a7cfe",
   "metadata": {},
   "source": [
    "# Python Program to Display 5th Fibonacci sequence by Recursion"
   ]
  },
  {
   "cell_type": "markdown",
   "id": "12eef596",
   "metadata": {},
   "source": [
    "# Pass Keyword"
   ]
  },
  {
   "cell_type": "code",
   "execution_count": 6,
   "id": "4a69c895",
   "metadata": {},
   "outputs": [],
   "source": [
    "def test():\n",
    "    pass\n",
    "# Key holder / Place holder"
   ]
  },
  {
   "cell_type": "code",
   "execution_count": 5,
   "id": "d502eb98",
   "metadata": {},
   "outputs": [],
   "source": [
    "if 2<5:\n",
    "    pass"
   ]
  },
  {
   "cell_type": "code",
   "execution_count": null,
   "id": "bfdd6aeb",
   "metadata": {},
   "outputs": [],
   "source": []
  }
 ],
 "metadata": {
  "kernelspec": {
   "display_name": "Python 3 (ipykernel)",
   "language": "python",
   "name": "python3"
  },
  "language_info": {
   "codemirror_mode": {
    "name": "ipython",
    "version": 3
   },
   "file_extension": ".py",
   "mimetype": "text/x-python",
   "name": "python",
   "nbconvert_exporter": "python",
   "pygments_lexer": "ipython3",
   "version": "3.8.10"
  }
 },
 "nbformat": 4,
 "nbformat_minor": 5
}
