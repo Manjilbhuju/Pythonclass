{
 "cells": [
  {
   "cell_type": "code",
   "execution_count": 18,
   "id": "d5006774",
   "metadata": {},
   "outputs": [],
   "source": [
    "class A:\n",
    "    word = \"Apple\""
   ]
  },
  {
   "cell_type": "code",
   "execution_count": 19,
   "id": "57d5480f",
   "metadata": {},
   "outputs": [],
   "source": [
    "class B:\n",
    "    words = \"Ball\""
   ]
  },
  {
   "cell_type": "code",
   "execution_count": 20,
   "id": "adaf31b0",
   "metadata": {},
   "outputs": [],
   "source": [
    "obj = B()"
   ]
  },
  {
   "cell_type": "code",
   "execution_count": 21,
   "id": "e7c3e7f6",
   "metadata": {},
   "outputs": [
    {
     "ename": "AttributeError",
     "evalue": "'B' object has no attribute 'word'",
     "output_type": "error",
     "traceback": [
      "\u001b[1;31m---------------------------------------------------------------------------\u001b[0m",
      "\u001b[1;31mAttributeError\u001b[0m                            Traceback (most recent call last)",
      "Input \u001b[1;32mIn [21]\u001b[0m, in \u001b[0;36m<cell line: 1>\u001b[1;34m()\u001b[0m\n\u001b[1;32m----> 1\u001b[0m \u001b[43mobj\u001b[49m\u001b[38;5;241;43m.\u001b[39;49m\u001b[43mword\u001b[49m\n",
      "\u001b[1;31mAttributeError\u001b[0m: 'B' object has no attribute 'word'"
     ]
    }
   ],
   "source": [
    "obj.word"
   ]
  },
  {
   "cell_type": "code",
   "execution_count": 22,
   "id": "cca2f96b",
   "metadata": {},
   "outputs": [],
   "source": [
    "class A:\n",
    "    word = \"Apple\""
   ]
  },
  {
   "cell_type": "code",
   "execution_count": 23,
   "id": "cd329083",
   "metadata": {},
   "outputs": [],
   "source": [
    "class B(A):\n",
    "    words = \"Ball\"\n",
    "    def __init__(self):\n",
    "        super().__init__() #single inheritance"
   ]
  },
  {
   "cell_type": "code",
   "execution_count": 24,
   "id": "0e1f551a",
   "metadata": {},
   "outputs": [],
   "source": [
    "obj = B()"
   ]
  },
  {
   "cell_type": "code",
   "execution_count": 25,
   "id": "009c2101",
   "metadata": {},
   "outputs": [
    {
     "data": {
      "text/plain": [
       "'Apple'"
      ]
     },
     "execution_count": 25,
     "metadata": {},
     "output_type": "execute_result"
    }
   ],
   "source": [
    "obj.word"
   ]
  },
  {
   "cell_type": "code",
   "execution_count": 26,
   "id": "8f613d56",
   "metadata": {},
   "outputs": [],
   "source": [
    "class computer:\n",
    "    def __init__(self,ram,cpu):\n",
    "        self.ram = ram\n",
    "        self.cpu = cpu"
   ]
  },
  {
   "cell_type": "code",
   "execution_count": 27,
   "id": "4049cf94",
   "metadata": {},
   "outputs": [],
   "source": [
    "class mobile(computer):\n",
    "    def __init__(self,camera,ram,cpu):\n",
    "        self.camera = camera\n",
    "        super().__init__(ram,cpu)"
   ]
  },
  {
   "cell_type": "code",
   "execution_count": 28,
   "id": "11b90523",
   "metadata": {},
   "outputs": [],
   "source": [
    "m = mobile(108,8,4)"
   ]
  },
  {
   "cell_type": "code",
   "execution_count": 29,
   "id": "88685816",
   "metadata": {},
   "outputs": [
    {
     "data": {
      "text/plain": [
       "4"
      ]
     },
     "execution_count": 29,
     "metadata": {},
     "output_type": "execute_result"
    }
   ],
   "source": [
    "m.cpu"
   ]
  },
  {
   "cell_type": "code",
   "execution_count": 30,
   "id": "cebe19c6",
   "metadata": {},
   "outputs": [
    {
     "data": {
      "text/plain": [
       "108"
      ]
     },
     "execution_count": 30,
     "metadata": {},
     "output_type": "execute_result"
    }
   ],
   "source": [
    "m.camera"
   ]
  },
  {
   "cell_type": "code",
   "execution_count": 31,
   "id": "23c82612",
   "metadata": {},
   "outputs": [
    {
     "data": {
      "text/plain": [
       "8"
      ]
     },
     "execution_count": 31,
     "metadata": {},
     "output_type": "execute_result"
    }
   ],
   "source": [
    "m.ram"
   ]
  },
  {
   "cell_type": "markdown",
   "id": "36911c05",
   "metadata": {},
   "source": [
    "# Multiple Inheritance"
   ]
  },
  {
   "cell_type": "code",
   "execution_count": 32,
   "id": "df4c1a4f",
   "metadata": {},
   "outputs": [],
   "source": [
    "class Father:\n",
    "    def __init__(self,fathername):\n",
    "        self.fathername = fathername"
   ]
  },
  {
   "cell_type": "code",
   "execution_count": 33,
   "id": "c5510d1d",
   "metadata": {},
   "outputs": [],
   "source": [
    "class Mother:\n",
    "    def __init__(self,mothername):\n",
    "        self.mothername = mothername"
   ]
  },
  {
   "cell_type": "code",
   "execution_count": 34,
   "id": "5262a290",
   "metadata": {},
   "outputs": [],
   "source": [
    "class Child(Father, Mother):\n",
    "    def __init__(self, childname, fathername, mothername):\n",
    "        self.childname = childname\n",
    "        Father.__init__(self, fathername)\n",
    "        Mother.__init__(self, mothername)"
   ]
  },
  {
   "cell_type": "code",
   "execution_count": 35,
   "id": "f057507c",
   "metadata": {},
   "outputs": [
    {
     "ename": "TypeError",
     "evalue": "__init__() missing 2 required positional arguments: 'fathername' and 'mothername'",
     "output_type": "error",
     "traceback": [
      "\u001b[1;31m---------------------------------------------------------------------------\u001b[0m",
      "\u001b[1;31mTypeError\u001b[0m                                 Traceback (most recent call last)",
      "Input \u001b[1;32mIn [35]\u001b[0m, in \u001b[0;36m<cell line: 1>\u001b[1;34m()\u001b[0m\n\u001b[1;32m----> 1\u001b[0m c \u001b[38;5;241m=\u001b[39m \u001b[43mChild\u001b[49m\u001b[43m(\u001b[49m\u001b[38;5;124;43m\"\u001b[39;49m\u001b[38;5;124;43mchildname\u001b[39;49m\u001b[38;5;124;43m\"\u001b[39;49m\u001b[43m)\u001b[49m\n",
      "\u001b[1;31mTypeError\u001b[0m: __init__() missing 2 required positional arguments: 'fathername' and 'mothername'"
     ]
    }
   ],
   "source": [
    "c = Child(\"childname\")"
   ]
  },
  {
   "cell_type": "code",
   "execution_count": 36,
   "id": "bc56f640",
   "metadata": {},
   "outputs": [],
   "source": [
    "c = Child(\"lov-kush\", \"Ram\", \"Sita\")"
   ]
  },
  {
   "cell_type": "code",
   "execution_count": 37,
   "id": "106b9214",
   "metadata": {},
   "outputs": [
    {
     "data": {
      "text/plain": [
       "'lov-kush'"
      ]
     },
     "execution_count": 37,
     "metadata": {},
     "output_type": "execute_result"
    }
   ],
   "source": [
    "c.childname"
   ]
  },
  {
   "cell_type": "code",
   "execution_count": 38,
   "id": "316405f6",
   "metadata": {},
   "outputs": [
    {
     "data": {
      "text/plain": [
       "'Ram'"
      ]
     },
     "execution_count": 38,
     "metadata": {},
     "output_type": "execute_result"
    }
   ],
   "source": [
    "c.fathername"
   ]
  },
  {
   "cell_type": "code",
   "execution_count": 39,
   "id": "bde12d64",
   "metadata": {},
   "outputs": [
    {
     "data": {
      "text/plain": [
       "'Sita'"
      ]
     },
     "execution_count": 39,
     "metadata": {},
     "output_type": "execute_result"
    }
   ],
   "source": [
    "c.mothername"
   ]
  },
  {
   "cell_type": "code",
   "execution_count": 40,
   "id": "fe1b2123",
   "metadata": {},
   "outputs": [],
   "source": [
    "class Child(Father, Mother):\n",
    "    def __init__(self, childname, fathername, mothername):\n",
    "        self.childname = childname\n",
    "        Father.__init__(self, fathername)\n",
    "        Mother.__init__(self, mothername)\n",
    "        \n",
    "    def display_family_tree(self):\n",
    "        print(\"Father name \", self.fathername)\n",
    "        print(\"Mother name \", self.mothername)\n",
    "        print(\"Child name \", self.childname)"
   ]
  },
  {
   "cell_type": "code",
   "execution_count": 41,
   "id": "0be82eca",
   "metadata": {},
   "outputs": [],
   "source": [
    "c = Child(\"lov-kush\", \"Ram\", \"Sita\")"
   ]
  },
  {
   "cell_type": "code",
   "execution_count": 42,
   "id": "497d7c3f",
   "metadata": {},
   "outputs": [
    {
     "name": "stdout",
     "output_type": "stream",
     "text": [
      "Father name  Ram\n",
      "Mother name  Sita\n",
      "Child name  lov-kush\n"
     ]
    }
   ],
   "source": [
    "c.display_family_tree()"
   ]
  },
  {
   "cell_type": "markdown",
   "id": "31ae857a",
   "metadata": {},
   "source": [
    "# Multilevel Inheritance"
   ]
  },
  {
   "cell_type": "code",
   "execution_count": 80,
   "id": "40efda1d",
   "metadata": {},
   "outputs": [],
   "source": [
    "class Grandfather:\n",
    "    g_name = \"Dasarath\""
   ]
  },
  {
   "cell_type": "code",
   "execution_count": 81,
   "id": "175bf084",
   "metadata": {},
   "outputs": [],
   "source": [
    "class Father(Grandfather):\n",
    "    f_name = \"Ram\"\n",
    "    def __init__(self):\n",
    "        super().__init__()"
   ]
  },
  {
   "cell_type": "code",
   "execution_count": 86,
   "id": "3303d143",
   "metadata": {},
   "outputs": [],
   "source": [
    "class Child(Father):\n",
    "    def __init__(self, name):\n",
    "        self.name = name\n",
    "        Father.__init__(self)"
   ]
  },
  {
   "cell_type": "code",
   "execution_count": 87,
   "id": "5dfa3d08",
   "metadata": {},
   "outputs": [],
   "source": [
    "c1 = Child(\"luv-kush\")"
   ]
  },
  {
   "cell_type": "code",
   "execution_count": 88,
   "id": "f07f5295",
   "metadata": {},
   "outputs": [
    {
     "data": {
      "text/plain": [
       "'Dasarath'"
      ]
     },
     "execution_count": 88,
     "metadata": {},
     "output_type": "execute_result"
    }
   ],
   "source": [
    "c1.g_name"
   ]
  },
  {
   "cell_type": "code",
   "execution_count": 89,
   "id": "3f0cb68a",
   "metadata": {},
   "outputs": [
    {
     "data": {
      "text/plain": [
       "'Ram'"
      ]
     },
     "execution_count": 89,
     "metadata": {},
     "output_type": "execute_result"
    }
   ],
   "source": [
    "c1.f_name"
   ]
  },
  {
   "cell_type": "code",
   "execution_count": 90,
   "id": "daa3d796",
   "metadata": {},
   "outputs": [
    {
     "data": {
      "text/plain": [
       "'luv-kush'"
      ]
     },
     "execution_count": 90,
     "metadata": {},
     "output_type": "execute_result"
    }
   ],
   "source": [
    "c1.name"
   ]
  },
  {
   "cell_type": "markdown",
   "id": "87e872ae",
   "metadata": {},
   "source": [
    "# Access Specifier in Python\n",
    "# Limiting Behaviour Variable\n",
    "* Private\n",
    "* Public\n",
    "* Protected"
   ]
  },
  {
   "cell_type": "code",
   "execution_count": 91,
   "id": "c7a384ab",
   "metadata": {},
   "outputs": [],
   "source": [
    "# to demonstrate access specifiers\n",
    "class InterviewbitEmployee:\n",
    "    #protected members\n",
    "    _emp_name = \"Manjil\"\n",
    "    #private members\n",
    "    __age = 21\n",
    "    #public members\n",
    "    public_info = \"Student\""
   ]
  },
  {
   "cell_type": "code",
   "execution_count": 92,
   "id": "e487d1b1",
   "metadata": {},
   "outputs": [
    {
     "ename": "AttributeError",
     "evalue": "'InterviewbitEmployee' object has no attribute '__age'",
     "output_type": "error",
     "traceback": [
      "\u001b[1;31m---------------------------------------------------------------------------\u001b[0m",
      "\u001b[1;31mAttributeError\u001b[0m                            Traceback (most recent call last)",
      "Input \u001b[1;32mIn [92]\u001b[0m, in \u001b[0;36m<cell line: 1>\u001b[1;34m()\u001b[0m\n\u001b[1;32m----> 1\u001b[0m \u001b[38;5;28mprint\u001b[39m(\u001b[43mInterviewbitEmployee\u001b[49m\u001b[43m(\u001b[49m\u001b[43m)\u001b[49m\u001b[38;5;241;43m.\u001b[39;49m\u001b[43m__age\u001b[49m)\n",
      "\u001b[1;31mAttributeError\u001b[0m: 'InterviewbitEmployee' object has no attribute '__age'"
     ]
    }
   ],
   "source": [
    "print(InterviewbitEmployee().__age)"
   ]
  },
  {
   "cell_type": "code",
   "execution_count": 93,
   "id": "a3f328c8",
   "metadata": {},
   "outputs": [
    {
     "name": "stdout",
     "output_type": "stream",
     "text": [
      "Student\n"
     ]
    }
   ],
   "source": [
    "print(InterviewbitEmployee().public_info)"
   ]
  },
  {
   "cell_type": "code",
   "execution_count": 94,
   "id": "d294a586",
   "metadata": {},
   "outputs": [
    {
     "name": "stdout",
     "output_type": "stream",
     "text": [
      "Manjil\n"
     ]
    }
   ],
   "source": [
    "print(InterviewbitEmployee()._emp_name)"
   ]
  },
  {
   "cell_type": "code",
   "execution_count": 95,
   "id": "6d295807",
   "metadata": {},
   "outputs": [],
   "source": [
    "class Account:\n",
    "    def __init__(self, name, bal):\n",
    "        self.name = name\n",
    "        self.bal = bal"
   ]
  },
  {
   "cell_type": "code",
   "execution_count": 96,
   "id": "ca9a3452",
   "metadata": {},
   "outputs": [],
   "source": [
    "a1 = Account(\"Manjil\", 6408635754)"
   ]
  },
  {
   "cell_type": "code",
   "execution_count": 97,
   "id": "d5939ef9",
   "metadata": {},
   "outputs": [],
   "source": [
    "a2 = Account(\"Ramesh\", 87659348758934)"
   ]
  },
  {
   "cell_type": "code",
   "execution_count": 98,
   "id": "f4c136f2",
   "metadata": {},
   "outputs": [
    {
     "ename": "TypeError",
     "evalue": "unsupported operand type(s) for +: 'Account' and 'Account'",
     "output_type": "error",
     "traceback": [
      "\u001b[1;31m---------------------------------------------------------------------------\u001b[0m",
      "\u001b[1;31mTypeError\u001b[0m                                 Traceback (most recent call last)",
      "Input \u001b[1;32mIn [98]\u001b[0m, in \u001b[0;36m<cell line: 1>\u001b[1;34m()\u001b[0m\n\u001b[1;32m----> 1\u001b[0m \u001b[43ma1\u001b[49m\u001b[43m \u001b[49m\u001b[38;5;241;43m+\u001b[39;49m\u001b[43m \u001b[49m\u001b[43ma2\u001b[49m\n",
      "\u001b[1;31mTypeError\u001b[0m: unsupported operand type(s) for +: 'Account' and 'Account'"
     ]
    }
   ],
   "source": [
    "a1 + a2"
   ]
  },
  {
   "cell_type": "code",
   "execution_count": 105,
   "id": "7683abe6",
   "metadata": {},
   "outputs": [
    {
     "name": "stdout",
     "output_type": "stream",
     "text": [
      "87665757394688\n"
     ]
    }
   ],
   "source": [
    "class Account:\n",
    "    def __init__(self, name, bal):\n",
    "        self.name = name\n",
    "        self.bal = bal\n",
    "    def __add__(self, otherobj):\n",
    "        print(self.bal + otherobj.bal)\n",
    "x = Account(\"Manjil\", 6408635754)\n",
    "y = Account(\"Ramesh\", 87659348758934)\n",
    "x + y"
   ]
  },
  {
   "cell_type": "code",
   "execution_count": null,
   "id": "2a17ad46",
   "metadata": {},
   "outputs": [],
   "source": []
  }
 ],
 "metadata": {
  "kernelspec": {
   "display_name": "Python 3 (ipykernel)",
   "language": "python",
   "name": "python3"
  },
  "language_info": {
   "codemirror_mode": {
    "name": "ipython",
    "version": 3
   },
   "file_extension": ".py",
   "mimetype": "text/x-python",
   "name": "python",
   "nbconvert_exporter": "python",
   "pygments_lexer": "ipython3",
   "version": "3.8.10"
  }
 },
 "nbformat": 4,
 "nbformat_minor": 5
}
