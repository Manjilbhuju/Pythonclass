{
 "cells": [
  {
   "cell_type": "markdown",
   "id": "91edcd90",
   "metadata": {},
   "source": [
    "# Write a program to check whether a person is eligible for voting or not.(accept age from user)"
   ]
  },
  {
   "cell_type": "code",
   "execution_count": 1,
   "id": "400ebea7",
   "metadata": {},
   "outputs": [
    {
     "name": "stdout",
     "output_type": "stream",
     "text": [
      "Enter a number :21\n"
     ]
    }
   ],
   "source": [
    "Ram = int(input(\"Enter a number :\"))"
   ]
  },
  {
   "cell_type": "code",
   "execution_count": 3,
   "id": "29151181",
   "metadata": {},
   "outputs": [
    {
     "name": "stdout",
     "output_type": "stream",
     "text": [
      "Enter a number :14\n",
      "the Ram 14 is uneligible\n"
     ]
    }
   ],
   "source": [
    "Ram = int(input(\"Enter a number :\"))\n",
    "if Ram == 21:\n",
    "    print(\"the Ram {} is eligible\".format(Ram))\n",
    "elif Ram >= 18:\n",
    "    print(\"the Ram {} is can vote\".format(Ram))\n",
    "else:\n",
    "    print(\"the Ram {} is uneligible\".format(Ram))"
   ]
  },
  {
   "cell_type": "markdown",
   "id": "4fa4a350",
   "metadata": {},
   "source": [
    "# Write a program to check whether the last digit of a number ( entered by user ) is divisible by 3 or not"
   ]
  },
  {
   "cell_type": "code",
   "execution_count": 4,
   "id": "277a727e",
   "metadata": {},
   "outputs": [
    {
     "name": "stdout",
     "output_type": "stream",
     "text": [
      "Enter a number :23\n"
     ]
    }
   ],
   "source": [
    "user = int(input(\"Enter a number :\"))"
   ]
  },
  {
   "cell_type": "code",
   "execution_count": 6,
   "id": "1b9c1f08",
   "metadata": {},
   "outputs": [
    {
     "name": "stdout",
     "output_type": "stream",
     "text": [
      "Enter a number :149\n",
      "the user 149 is not divisible\n"
     ]
    }
   ],
   "source": [
    "user = int(input(\"Enter a number :\"))\n",
    "if user % 3 == 0:\n",
    "    print(\"the user {} is divisible\".format(user))\n",
    "else:\n",
    "    print(\"the user {} is not divisible\".format(user))"
   ]
  },
  {
   "cell_type": "code",
   "execution_count": 7,
   "id": "69c729ff",
   "metadata": {},
   "outputs": [
    {
     "name": "stdout",
     "output_type": "stream",
     "text": [
      "Enter a number :149\n",
      "div by 3\n"
     ]
    }
   ],
   "source": [
    "user_input = int(input(\"Enter a number :\"))\n",
    "\n",
    "last_digit = user_input % 10\n",
    "\n",
    "if last_digit % 3 == 0:\n",
    "    print(\"div by 3\")\n",
    "else:\n",
    "    print(\"not div by 3\")"
   ]
  },
  {
   "cell_type": "markdown",
   "id": "6b8786a6",
   "metadata": {},
   "source": [
    "# BMI Calculator"
   ]
  },
  {
   "cell_type": "code",
   "execution_count": null,
   "id": "dde7a125",
   "metadata": {},
   "outputs": [],
   "source": [
    " "
   ]
  }
 ],
 "metadata": {
  "kernelspec": {
   "display_name": "Python 3 (ipykernel)",
   "language": "python",
   "name": "python3"
  },
  "language_info": {
   "codemirror_mode": {
    "name": "ipython",
    "version": 3
   },
   "file_extension": ".py",
   "mimetype": "text/x-python",
   "name": "python",
   "nbconvert_exporter": "python",
   "pygments_lexer": "ipython3",
   "version": "3.8.10"
  }
 },
 "nbformat": 4,
 "nbformat_minor": 5
}
