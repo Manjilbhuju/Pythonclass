{
 "cells": [
  {
   "cell_type": "code",
   "execution_count": 1,
   "id": "ea6a2300",
   "metadata": {},
   "outputs": [],
   "source": [
    "data = {}"
   ]
  },
  {
   "cell_type": "code",
   "execution_count": 2,
   "id": "0def127e",
   "metadata": {},
   "outputs": [
    {
     "data": {
      "text/plain": [
       "dict"
      ]
     },
     "execution_count": 2,
     "metadata": {},
     "output_type": "execute_result"
    }
   ],
   "source": [
    "type(data)"
   ]
  },
  {
   "cell_type": "code",
   "execution_count": 3,
   "id": "cd9f38d4",
   "metadata": {},
   "outputs": [],
   "source": [
    "data = {\n",
    "    'name' : 'Manjil',\n",
    "    'age' : 21,\n",
    "    'studies' : [\"Python\", \"Django\"]\n",
    "}"
   ]
  },
  {
   "cell_type": "code",
   "execution_count": 4,
   "id": "407a99f5",
   "metadata": {},
   "outputs": [
    {
     "data": {
      "text/plain": [
       "{'name': 'Manjil', 'age': 21, 'studies': ['Python', 'Django']}"
      ]
     },
     "execution_count": 4,
     "metadata": {},
     "output_type": "execute_result"
    }
   ],
   "source": [
    "data"
   ]
  },
  {
   "cell_type": "code",
   "execution_count": 5,
   "id": "09579fd7",
   "metadata": {},
   "outputs": [
    {
     "data": {
      "text/plain": [
       "{1: 'manjil', 2: 'Ramesh'}"
      ]
     },
     "execution_count": 5,
     "metadata": {},
     "output_type": "execute_result"
    }
   ],
   "source": [
    "{1:\"manjil\", 2:\"Ramesh\"}"
   ]
  },
  {
   "cell_type": "code",
   "execution_count": 6,
   "id": "b23c9650",
   "metadata": {},
   "outputs": [
    {
     "data": {
      "text/plain": [
       "{1.1: 'Audi', 1.2: 'bmw'}"
      ]
     },
     "execution_count": 6,
     "metadata": {},
     "output_type": "execute_result"
    }
   ],
   "source": [
    "{1.1:\"Audi\", 1.2:\"bmw\"}"
   ]
  },
  {
   "cell_type": "code",
   "execution_count": 14,
   "id": "74e94eaf",
   "metadata": {},
   "outputs": [],
   "source": [
    "data = {\n",
    "    'name' : 'Manjil',\n",
    "    'age' : 21,\n",
    "    'studies' : [\"Python\", \"Django\"]\n",
    "}"
   ]
  },
  {
   "cell_type": "code",
   "execution_count": 15,
   "id": "0d46ce41",
   "metadata": {},
   "outputs": [
    {
     "data": {
      "text/plain": [
       "dict_keys(['name', 'age', 'studies'])"
      ]
     },
     "execution_count": 15,
     "metadata": {},
     "output_type": "execute_result"
    }
   ],
   "source": [
    "data.keys()"
   ]
  },
  {
   "cell_type": "code",
   "execution_count": 16,
   "id": "cf60f983",
   "metadata": {},
   "outputs": [
    {
     "data": {
      "text/plain": [
       "['name', 'age', 'studies']"
      ]
     },
     "execution_count": 16,
     "metadata": {},
     "output_type": "execute_result"
    }
   ],
   "source": [
    "list(data.keys()) #list of keys in dictionary"
   ]
  },
  {
   "cell_type": "code",
   "execution_count": 17,
   "id": "986d3b5e",
   "metadata": {},
   "outputs": [
    {
     "data": {
      "text/plain": [
       "['Manjil', 21, ['Python', 'Django']]"
      ]
     },
     "execution_count": 17,
     "metadata": {},
     "output_type": "execute_result"
    }
   ],
   "source": [
    "list(data.values()) #list of datas in dictionary"
   ]
  },
  {
   "cell_type": "markdown",
   "id": "7a4962d3",
   "metadata": {},
   "source": [
    "# Accessing dictionary items"
   ]
  },
  {
   "cell_type": "code",
   "execution_count": 23,
   "id": "e170465e",
   "metadata": {},
   "outputs": [
    {
     "data": {
      "text/plain": [
       "{'name': 'Manjil', 'age': 21, 'studies': ['Python', 'Django']}"
      ]
     },
     "execution_count": 23,
     "metadata": {},
     "output_type": "execute_result"
    }
   ],
   "source": [
    "data"
   ]
  },
  {
   "cell_type": "code",
   "execution_count": 24,
   "id": "dffcfc28",
   "metadata": {},
   "outputs": [
    {
     "data": {
      "text/plain": [
       "'Manjil'"
      ]
     },
     "execution_count": 24,
     "metadata": {},
     "output_type": "execute_result"
    }
   ],
   "source": [
    "data['name']"
   ]
  },
  {
   "cell_type": "code",
   "execution_count": 25,
   "id": "c621253a",
   "metadata": {},
   "outputs": [
    {
     "data": {
      "text/plain": [
       "'Manjil'"
      ]
     },
     "execution_count": 25,
     "metadata": {},
     "output_type": "execute_result"
    }
   ],
   "source": [
    "data.get(\"name\")"
   ]
  },
  {
   "cell_type": "code",
   "execution_count": 26,
   "id": "b0bcd3c5",
   "metadata": {},
   "outputs": [
    {
     "data": {
      "text/plain": [
       "['Python', 'Django']"
      ]
     },
     "execution_count": 26,
     "metadata": {},
     "output_type": "execute_result"
    }
   ],
   "source": [
    "data.get(\"studies\")"
   ]
  },
  {
   "cell_type": "code",
   "execution_count": 27,
   "id": "4b51d652",
   "metadata": {},
   "outputs": [],
   "source": [
    "d = {1:\"apple\", 2:\"ball\"}"
   ]
  },
  {
   "cell_type": "code",
   "execution_count": 28,
   "id": "484e8730",
   "metadata": {},
   "outputs": [
    {
     "data": {
      "text/plain": [
       "'apple'"
      ]
     },
     "execution_count": 28,
     "metadata": {},
     "output_type": "execute_result"
    }
   ],
   "source": [
    "d.get(1)"
   ]
  },
  {
   "cell_type": "code",
   "execution_count": 30,
   "id": "e1e4b368",
   "metadata": {},
   "outputs": [
    {
     "data": {
      "text/plain": [
       "'apple'"
      ]
     },
     "execution_count": 30,
     "metadata": {},
     "output_type": "execute_result"
    }
   ],
   "source": [
    "d[1]"
   ]
  },
  {
   "cell_type": "markdown",
   "id": "cefb0c54",
   "metadata": {},
   "source": [
    "# Updating Dicyionary Values"
   ]
  },
  {
   "cell_type": "code",
   "execution_count": 31,
   "id": "53d9cd38",
   "metadata": {},
   "outputs": [],
   "source": [
    "data = {\n",
    "    'name' : 'Manjil',\n",
    "    'age' : 21,\n",
    "    'studies' : [\"Python\", \"Django\"]\n",
    "}"
   ]
  },
  {
   "cell_type": "code",
   "execution_count": 32,
   "id": "48c1f442",
   "metadata": {},
   "outputs": [
    {
     "data": {
      "text/plain": [
       "{'name': 'Manjil', 'age': 21, 'studies': ['Python', 'Django']}"
      ]
     },
     "execution_count": 32,
     "metadata": {},
     "output_type": "execute_result"
    }
   ],
   "source": [
    "data"
   ]
  },
  {
   "cell_type": "code",
   "execution_count": 33,
   "id": "934b6f92",
   "metadata": {},
   "outputs": [],
   "source": [
    "data['name'] = \"MANJIL\""
   ]
  },
  {
   "cell_type": "code",
   "execution_count": 34,
   "id": "84f27e7f",
   "metadata": {},
   "outputs": [
    {
     "data": {
      "text/plain": [
       "{'name': 'MANJIL', 'age': 21, 'studies': ['Python', 'Django']}"
      ]
     },
     "execution_count": 34,
     "metadata": {},
     "output_type": "execute_result"
    }
   ],
   "source": [
    "data"
   ]
  },
  {
   "cell_type": "code",
   "execution_count": 35,
   "id": "c1d76cea",
   "metadata": {},
   "outputs": [],
   "source": [
    "data.update({'name' : \"mb\"})"
   ]
  },
  {
   "cell_type": "code",
   "execution_count": 36,
   "id": "391b483b",
   "metadata": {},
   "outputs": [
    {
     "data": {
      "text/plain": [
       "{'name': 'mb', 'age': 21, 'studies': ['Python', 'Django']}"
      ]
     },
     "execution_count": 36,
     "metadata": {},
     "output_type": "execute_result"
    }
   ],
   "source": [
    "data"
   ]
  },
  {
   "cell_type": "code",
   "execution_count": 37,
   "id": "6757e264",
   "metadata": {},
   "outputs": [],
   "source": [
    "data.update({'studies_at':\"broadways\"})"
   ]
  },
  {
   "cell_type": "code",
   "execution_count": 38,
   "id": "d45df7c8",
   "metadata": {},
   "outputs": [
    {
     "data": {
      "text/plain": [
       "{'name': 'mb',\n",
       " 'age': 21,\n",
       " 'studies': ['Python', 'Django'],\n",
       " 'studies_at': 'broadways'}"
      ]
     },
     "execution_count": 38,
     "metadata": {},
     "output_type": "execute_result"
    }
   ],
   "source": [
    "data"
   ]
  },
  {
   "cell_type": "code",
   "execution_count": 40,
   "id": "677cc9ba",
   "metadata": {},
   "outputs": [],
   "source": [
    "# if key is present it updates value of key\n",
    "# if key is not present new value pair is added to existing dict"
   ]
  },
  {
   "cell_type": "markdown",
   "id": "9602d777",
   "metadata": {},
   "source": [
    "# Updating key"
   ]
  },
  {
   "cell_type": "code",
   "execution_count": 41,
   "id": "474fcfc7",
   "metadata": {},
   "outputs": [
    {
     "data": {
      "text/plain": [
       "{'name': 'mb',\n",
       " 'age': 21,\n",
       " 'studies': ['Python', 'Django'],\n",
       " 'studies_at': 'broadways'}"
      ]
     },
     "execution_count": 41,
     "metadata": {},
     "output_type": "execute_result"
    }
   ],
   "source": [
    "data"
   ]
  },
  {
   "cell_type": "code",
   "execution_count": 42,
   "id": "17e0dcb2",
   "metadata": {},
   "outputs": [
    {
     "data": {
      "text/plain": [
       "'mb'"
      ]
     },
     "execution_count": 42,
     "metadata": {},
     "output_type": "execute_result"
    }
   ],
   "source": [
    "data.pop('name')"
   ]
  },
  {
   "cell_type": "code",
   "execution_count": 43,
   "id": "2c133a2e",
   "metadata": {},
   "outputs": [
    {
     "data": {
      "text/plain": [
       "{'age': 21, 'studies': ['Python', 'Django'], 'studies_at': 'broadways'}"
      ]
     },
     "execution_count": 43,
     "metadata": {},
     "output_type": "execute_result"
    }
   ],
   "source": [
    "data"
   ]
  },
  {
   "cell_type": "code",
   "execution_count": 46,
   "id": "1fb624dc",
   "metadata": {},
   "outputs": [],
   "source": [
    "name_val = data.pop('name')"
   ]
  },
  {
   "cell_type": "code",
   "execution_count": 47,
   "id": "895c71b7",
   "metadata": {},
   "outputs": [
    {
     "data": {
      "text/plain": [
       "{'age': 21, 'studies': ['Python', 'Django'], 'studies_at': 'broadways'}"
      ]
     },
     "execution_count": 47,
     "metadata": {},
     "output_type": "execute_result"
    }
   ],
   "source": [
    "data"
   ]
  },
  {
   "cell_type": "code",
   "execution_count": 48,
   "id": "930eedce",
   "metadata": {},
   "outputs": [],
   "source": [
    "data.update({\"NAME\" : name_val})"
   ]
  },
  {
   "cell_type": "code",
   "execution_count": 49,
   "id": "de5c2dc6",
   "metadata": {},
   "outputs": [
    {
     "data": {
      "text/plain": [
       "{'age': 21,\n",
       " 'studies': ['Python', 'Django'],\n",
       " 'studies_at': 'broadways',\n",
       " 'NAME': 'mb'}"
      ]
     },
     "execution_count": 49,
     "metadata": {},
     "output_type": "execute_result"
    }
   ],
   "source": [
    "data"
   ]
  },
  {
   "cell_type": "markdown",
   "id": "b14043ed",
   "metadata": {},
   "source": [
    "# Looping in dictionary"
   ]
  },
  {
   "cell_type": "code",
   "execution_count": 50,
   "id": "8e3e95ee",
   "metadata": {},
   "outputs": [],
   "source": [
    "data = {'name': 'mb',\n",
    " 'age': 21,\n",
    " 'studies': ['Python', 'Django'],\n",
    " 'studies_at': 'broadways'}"
   ]
  },
  {
   "cell_type": "code",
   "execution_count": 51,
   "id": "fec9e446",
   "metadata": {},
   "outputs": [
    {
     "data": {
      "text/plain": [
       "{'name': 'mb',\n",
       " 'age': 21,\n",
       " 'studies': ['Python', 'Django'],\n",
       " 'studies_at': 'broadways'}"
      ]
     },
     "execution_count": 51,
     "metadata": {},
     "output_type": "execute_result"
    }
   ],
   "source": [
    "data"
   ]
  },
  {
   "cell_type": "code",
   "execution_count": 52,
   "id": "d52782e5",
   "metadata": {},
   "outputs": [
    {
     "data": {
      "text/plain": [
       "dict_items([('name', 'mb'), ('age', 21), ('studies', ['Python', 'Django']), ('studies_at', 'broadways')])"
      ]
     },
     "execution_count": 52,
     "metadata": {},
     "output_type": "execute_result"
    }
   ],
   "source": [
    "data.items()"
   ]
  },
  {
   "cell_type": "code",
   "execution_count": 53,
   "id": "27c19898",
   "metadata": {},
   "outputs": [
    {
     "data": {
      "text/plain": [
       "[('name', 'mb'),\n",
       " ('age', 21),\n",
       " ('studies', ['Python', 'Django']),\n",
       " ('studies_at', 'broadways')]"
      ]
     },
     "execution_count": 53,
     "metadata": {},
     "output_type": "execute_result"
    }
   ],
   "source": [
    "list(data.items())"
   ]
  },
  {
   "cell_type": "code",
   "execution_count": 54,
   "id": "ffb9ddca",
   "metadata": {},
   "outputs": [
    {
     "name": "stdout",
     "output_type": "stream",
     "text": [
      "name\n",
      "age\n",
      "studies\n",
      "studies_at\n"
     ]
    }
   ],
   "source": [
    "for item in data:\n",
    "    print(item)"
   ]
  },
  {
   "cell_type": "code",
   "execution_count": 56,
   "id": "c9ba64cb",
   "metadata": {},
   "outputs": [
    {
     "name": "stdout",
     "output_type": "stream",
     "text": [
      "The key is name and the value is mb\n",
      "The key is age and the value is 21\n",
      "The key is studies and the value is ['Python', 'Django']\n",
      "The key is studies_at and the value is broadways\n"
     ]
    }
   ],
   "source": [
    "for key,val in data.items():\n",
    "    print(\"The key is {} and the value is {}\".format(key,val))"
   ]
  },
  {
   "cell_type": "markdown",
   "id": "0150e379",
   "metadata": {},
   "source": [
    "# Nested in disctionary"
   ]
  },
  {
   "cell_type": "code",
   "execution_count": 60,
   "id": "71331dfd",
   "metadata": {},
   "outputs": [],
   "source": [
    "child = {\n",
    "    \"child1\" : {'name':\"john\",'age':5},\n",
    "    \"child2\" : {'name':\"andy\",'gender':\"F\"},\n",
    "    \"child3\" : {'school_name' : 'Broadways'}\n",
    "}"
   ]
  },
  {
   "cell_type": "code",
   "execution_count": 61,
   "id": "425fde8b",
   "metadata": {},
   "outputs": [
    {
     "data": {
      "text/plain": [
       "{'child1': {'name': 'john', 'age': 5},\n",
       " 'child2': {'name': 'andy', 'gender': 'F'},\n",
       " 'child3': {'school_name': 'Broadways'}}"
      ]
     },
     "execution_count": 61,
     "metadata": {},
     "output_type": "execute_result"
    }
   ],
   "source": [
    "child"
   ]
  },
  {
   "cell_type": "code",
   "execution_count": 62,
   "id": "e9043f89",
   "metadata": {},
   "outputs": [
    {
     "data": {
      "text/plain": [
       "'Broadways'"
      ]
     },
     "execution_count": 62,
     "metadata": {},
     "output_type": "execute_result"
    }
   ],
   "source": [
    "child['child3']['school_name']"
   ]
  },
  {
   "cell_type": "code",
   "execution_count": null,
   "id": "ccb41af6",
   "metadata": {},
   "outputs": [],
   "source": []
  }
 ],
 "metadata": {
  "kernelspec": {
   "display_name": "Python 3 (ipykernel)",
   "language": "python",
   "name": "python3"
  },
  "language_info": {
   "codemirror_mode": {
    "name": "ipython",
    "version": 3
   },
   "file_extension": ".py",
   "mimetype": "text/x-python",
   "name": "python",
   "nbconvert_exporter": "python",
   "pygments_lexer": "ipython3",
   "version": "3.8.10"
  }
 },
 "nbformat": 4,
 "nbformat_minor": 5
}
